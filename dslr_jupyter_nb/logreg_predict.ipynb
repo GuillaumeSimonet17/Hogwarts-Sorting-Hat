{
 "cells": [
  {
   "cell_type": "code",
   "execution_count": 124,
   "id": "a1302fb5-3f83-4275-936b-07a28118e7e7",
   "metadata": {},
   "outputs": [],
   "source": [
    "import sys\n",
    "import statistic_lib as st\n",
    "import numpy as np\n",
    "import pandas as pd\n",
    "import csv"
   ]
  },
  {
   "cell_type": "code",
   "execution_count": 149,
   "id": "41763b2b-7b4c-4416-b3cd-cbd5d8ff0d8b",
   "metadata": {},
   "outputs": [],
   "source": [
    "dataset_test = pd.read_csv('../datasets/dataset_test.csv')\n",
    "weights = pd.read_csv('./result_train_weights.csv')"
   ]
  },
  {
   "cell_type": "code",
   "execution_count": 150,
   "id": "ea6ae0cc-eab8-4c1d-bb01-36ed3ccb3ece",
   "metadata": {},
   "outputs": [],
   "source": [
    "X_test = dataset_test.select_dtypes(include=['number']).drop(columns=['Index', 'Hogwarts House', 'Care of Magical Creatures', 'Arithmancy', 'Astronomy'])\n",
    "X_test = X_test.apply(lambda x: (x - x.mean()) / x.std())\n",
    "X_test.fillna(0, inplace=True)"
   ]
  },
  {
   "cell_type": "code",
   "execution_count": 151,
   "id": "2332a4c2-8cc8-40a4-b9b7-3a1ec4839c15",
   "metadata": {},
   "outputs": [
    {
     "data": {
      "text/plain": [
       "array([[ 1.        ,  0.32335504, -1.25481856, ..., -0.65510341,\n",
       "        -0.14902972, -0.38858101],\n",
       "       [ 1.        ,  0.312486  ,  0.82955394, ...,  0.85086413,\n",
       "         1.36230678, -0.52137372],\n",
       "       [ 1.        , -1.49767985, -0.52067217, ..., -1.22016423,\n",
       "        -1.12433912,  1.85723377],\n",
       "       ...,\n",
       "       [ 1.        ,  0.76138236, -0.46559   , ...,  0.22336936,\n",
       "        -0.09535952, -0.23236046],\n",
       "       [ 1.        ,  1.05830904,  1.52420214, ...,  0.55239463,\n",
       "         1.71168615, -0.43743276],\n",
       "       [ 1.        ,  1.15509665,  0.        , ..., -1.64708283,\n",
       "         1.43006399, -0.33773316]])"
      ]
     },
     "execution_count": 151,
     "metadata": {},
     "output_type": "execute_result"
    }
   ],
   "source": [
    "ones = np.ones((X_test.shape[0], 1))\n",
    "X_test = np.column_stack((ones,X_test))\n",
    "X_test"
   ]
  },
  {
   "cell_type": "code",
   "execution_count": 152,
   "id": "598827e4-5a12-4a26-9aac-ec1c51eb6b1b",
   "metadata": {},
   "outputs": [
    {
     "data": {
      "text/plain": [
       "array([[ 0.40256021, -0.34876624, -0.78826581,  0.73447184],\n",
       "       [ 2.36267996, -0.31675439, -0.63580741, -1.41011816],\n",
       "       [-1.65539319, -0.07824709,  2.85731607, -1.12367579],\n",
       "       ...,\n",
       "       [ 0.29232366, -0.96354303,  0.03755044,  0.63366893],\n",
       "       [ 2.24563814, -0.20306931, -0.52229714, -1.52027169],\n",
       "       [-0.28396822,  0.41637619, -0.33975604,  0.20734807]])"
      ]
     },
     "execution_count": 152,
     "metadata": {},
     "output_type": "execute_result"
    }
   ],
   "source": [
    "\n",
    "W = np.array(weights.drop(columns=weights.columns[0]))\n",
    "\n",
    "Z = np.dot(X_test, W)\n",
    "Z"
   ]
  },
  {
   "cell_type": "code",
   "execution_count": 153,
   "id": "201c67ea-4220-42a1-8e40-618144b24ca8",
   "metadata": {},
   "outputs": [],
   "source": [
    "def softmax(z):\n",
    "    exp_z = np.exp(z - np.max(z, axis=1, keepdims=True))  # stabilité numérique\n",
    "    return exp_z / np.sum(exp_z, axis=1, keepdims=True)\n",
    "\n",
    "Y_hat = softmax(Z)"
   ]
  },
  {
   "cell_type": "code",
   "execution_count": 154,
   "id": "7245896a-697d-4932-b883-d6b2e59fd67a",
   "metadata": {},
   "outputs": [
    {
     "name": "stdout",
     "output_type": "stream",
     "text": [
      "[[0.31552309 0.14884499 0.09590958 0.43972234]\n",
      " [0.87607711 0.0601006  0.04368334 0.02013895]\n",
      " [0.01013054 0.04904314 0.92358564 0.01724068]\n",
      " ...\n",
      " [0.28845377 0.08215996 0.22357828 0.40580798]\n",
      " [0.85299249 0.07370298 0.05356069 0.01974383]\n",
      " [0.17874211 0.36006641 0.16904353 0.29214795]]\n"
     ]
    }
   ],
   "source": [
    "print(Y_hat)"
   ]
  },
  {
   "cell_type": "code",
   "execution_count": 155,
   "id": "6e4cb9c9-a818-4883-a946-4f6c919f6692",
   "metadata": {},
   "outputs": [],
   "source": [
    "Y_hat_test = softmax(Z)\n",
    "y_pred = np.argmax(Y_hat_test, axis=1)\n"
   ]
  },
  {
   "cell_type": "code",
   "execution_count": 156,
   "id": "0344d299-9e11-425b-9e04-abc8b0e80e4a",
   "metadata": {},
   "outputs": [
    {
     "data": {
      "text/plain": [
       "array([3, 0, 2, 3, 3, 2, 0, 3, 0, 3, 3, 2, 2, 2, 2, 3, 0, 2, 0, 3, 3, 2,\n",
       "       0, 0, 0, 0, 0, 2, 2, 0, 3, 0, 2, 3, 3, 0, 2, 0, 2, 0, 0, 2, 3, 2,\n",
       "       3, 0, 2, 2, 0, 2, 0, 3, 0, 0, 3, 2, 2, 0, 0, 2, 2, 2, 0, 3, 0, 3,\n",
       "       3, 0, 3, 0, 2, 2, 2, 0, 2, 0, 3, 2, 0, 2, 0, 3, 2, 2, 2, 0, 0, 3,\n",
       "       0, 0, 3, 2, 2, 3, 0, 0, 2, 2, 0, 0, 3, 0, 3, 2, 0, 0, 3, 2, 2, 0,\n",
       "       3, 2, 2, 0, 3, 0, 0, 0, 2, 0, 2, 3, 2, 2, 0, 0, 2, 0, 0, 0, 0, 2,\n",
       "       2, 2, 0, 0, 0, 2, 2, 0, 0, 0, 2, 0, 2, 0, 0, 3, 3, 0, 3, 2, 2, 0,\n",
       "       0, 2, 3, 2, 3, 0, 0, 3, 3, 0, 0, 2, 0, 3, 3, 3, 2, 0, 3, 2, 3, 2,\n",
       "       2, 3, 0, 2, 0, 0, 2, 2, 2, 2, 3, 0, 3, 2, 2, 0, 2, 0, 0, 3, 0, 3,\n",
       "       3, 2, 2, 3, 0, 3, 2, 2, 0, 0, 2, 0, 2, 3, 2, 0, 2, 2, 0, 0, 2, 2,\n",
       "       2, 2, 3, 3, 2, 0, 0, 0, 3, 3, 2, 3, 2, 0, 3, 3, 0, 2, 2, 2, 3, 2,\n",
       "       3, 3, 2, 2, 0, 0, 3, 3, 2, 2, 3, 0, 0, 0, 3, 0, 3, 0, 2, 0, 0, 3,\n",
       "       3, 0, 0, 2, 0, 0, 3, 2, 0, 2, 0, 0, 0, 2, 2, 3, 0, 3, 3, 0, 3, 0,\n",
       "       0, 2, 2, 0, 2, 2, 0, 3, 3, 2, 2, 3, 3, 3, 0, 3, 3, 3, 0, 2, 0, 0,\n",
       "       3, 2, 3, 3, 3, 2, 0, 3, 0, 2, 0, 2, 2, 0, 0, 2, 0, 0, 2, 3, 2, 2,\n",
       "       0, 0, 2, 0, 0, 3, 0, 3, 2, 3, 3, 2, 0, 2, 0, 3, 3, 0, 0, 2, 2, 2,\n",
       "       3, 0, 2, 3, 3, 0, 2, 3, 0, 2, 2, 0, 0, 2, 3, 0, 2, 0, 2, 2, 2, 0,\n",
       "       3, 3, 0, 2, 2, 2, 2, 3, 2, 2, 2, 2, 0, 0, 3, 0, 2, 3, 3, 0, 0, 2,\n",
       "       3, 3, 0, 1])"
      ]
     },
     "execution_count": 156,
     "metadata": {},
     "output_type": "execute_result"
    }
   ],
   "source": [
    "y_pred"
   ]
  },
  {
   "cell_type": "code",
   "execution_count": null,
   "id": "816444df-f867-4f96-8044-00a8ea4c6c76",
   "metadata": {},
   "outputs": [],
   "source": []
  },
  {
   "cell_type": "code",
   "execution_count": null,
   "id": "4a2487f5-2bbf-42ae-9b36-c44cf3fb843d",
   "metadata": {},
   "outputs": [],
   "source": []
  }
 ],
 "metadata": {
  "kernelspec": {
   "display_name": "Python 3 (ipykernel)",
   "language": "python",
   "name": "python3"
  },
  "language_info": {
   "codemirror_mode": {
    "name": "ipython",
    "version": 3
   },
   "file_extension": ".py",
   "mimetype": "text/x-python",
   "name": "python",
   "nbconvert_exporter": "python",
   "pygments_lexer": "ipython3",
   "version": "3.10.12"
  }
 },
 "nbformat": 4,
 "nbformat_minor": 5
}

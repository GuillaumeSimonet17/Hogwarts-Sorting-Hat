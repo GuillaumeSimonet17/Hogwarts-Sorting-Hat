{
 "cells": [
  {
   "cell_type": "code",
   "execution_count": 3,
   "id": "a1302fb5-3f83-4275-936b-07a28118e7e7",
   "metadata": {},
   "outputs": [],
   "source": [
    "import sys\n",
    "import statistic_lib as st\n",
    "import numpy as np\n",
    "import pandas as pd\n",
    "import csv"
   ]
  },
  {
   "cell_type": "code",
   "execution_count": 4,
   "id": "41763b2b-7b4c-4416-b3cd-cbd5d8ff0d8b",
   "metadata": {},
   "outputs": [],
   "source": [
    "dataset_test = pd.read_csv('../datasets/dataset_test.csv')\n",
    "weights = pd.read_csv('./result_train_weights.csv')"
   ]
  },
  {
   "cell_type": "code",
   "execution_count": 5,
   "id": "ea6ae0cc-eab8-4c1d-bb01-36ed3ccb3ece",
   "metadata": {},
   "outputs": [],
   "source": [
    "X_test = dataset_test.select_dtypes(include=['number']).drop(columns=['Index', 'Hogwarts House', 'Care of Magical Creatures', 'Arithmancy', 'Astronomy'])\n",
    "X_test = X_test.apply(lambda x: (x - x.mean()) / x.std())\n",
    "X_test.fillna(0, inplace=True)"
   ]
  },
  {
   "cell_type": "code",
   "execution_count": 6,
   "id": "2332a4c2-8cc8-40a4-b9b7-3a1ec4839c15",
   "metadata": {},
   "outputs": [],
   "source": [
    "ones = np.ones((X_test.shape[0], 1))\n",
    "X_test = np.column_stack((X_test,ones))"
   ]
  },
  {
   "cell_type": "code",
   "execution_count": 7,
   "id": "598827e4-5a12-4a26-9aac-ec1c51eb6b1b",
   "metadata": {},
   "outputs": [],
   "source": [
    "W = np.array(weights.drop(columns=weights.columns[0]))\n",
    "Z = np.dot(X_test, W)"
   ]
  },
  {
   "cell_type": "code",
   "execution_count": 8,
   "id": "201c67ea-4220-42a1-8e40-618144b24ca8",
   "metadata": {},
   "outputs": [],
   "source": [
    "def softmax(z):\n",
    "    exp_z = np.exp(z - np.max(z, axis=1, keepdims=True))\n",
    "    return exp_z / np.sum(exp_z, axis=1, keepdims=True)\n",
    "\n",
    "Y_hat = softmax(Z)"
   ]
  },
  {
   "cell_type": "code",
   "execution_count": 9,
   "id": "6e4cb9c9-a818-4883-a946-4f6c919f6692",
   "metadata": {},
   "outputs": [],
   "source": [
    "Y_hat_test = softmax(Z)\n",
    "y_pred = np.argmax(Y_hat_test, axis=1)"
   ]
  },
  {
   "cell_type": "code",
   "execution_count": 10,
   "id": "0344d299-9e11-425b-9e04-abc8b0e80e4a",
   "metadata": {},
   "outputs": [],
   "source": [
    "houses = weights.drop(columns='Unnamed: 0')\n",
    "houses = houses.columns\n",
    "\n",
    "result = 'Houses:\\n'\n",
    "index = 0\n",
    "for i in y_pred:\n",
    "    result += f\"{index}: {houses[i]}\\n\"\n",
    "    index += 1\n",
    "\n",
    "with open('houses.csv', 'w', newline='') as file:\n",
    "    file.write(result)"
   ]
  },
  {
   "cell_type": "code",
   "execution_count": null,
   "id": "15e6af88-107a-4466-b071-3ff86a23f158",
   "metadata": {},
   "outputs": [],
   "source": []
  }
 ],
 "metadata": {
  "kernelspec": {
   "display_name": "Python 3 (ipykernel)",
   "language": "python",
   "name": "python3"
  },
  "language_info": {
   "codemirror_mode": {
    "name": "ipython",
    "version": 3
   },
   "file_extension": ".py",
   "mimetype": "text/x-python",
   "name": "python",
   "nbconvert_exporter": "python",
   "pygments_lexer": "ipython3",
   "version": "3.10.12"
  }
 },
 "nbformat": 4,
 "nbformat_minor": 5
}

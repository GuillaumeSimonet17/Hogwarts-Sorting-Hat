{
 "cells": [
  {
   "cell_type": "code",
   "execution_count": 58,
   "id": "a1302fb5-3f83-4275-936b-07a28118e7e7",
   "metadata": {
    "ExecuteTime": {
     "end_time": "2024-08-17T14:52:55.960183Z",
     "start_time": "2024-08-17T14:52:55.762037Z"
    }
   },
   "outputs": [],
   "source": [
    "import numpy as np\n",
    "import pandas as pd"
   ]
  },
  {
   "cell_type": "code",
   "execution_count": 59,
   "id": "41763b2b-7b4c-4416-b3cd-cbd5d8ff0d8b",
   "metadata": {
    "ExecuteTime": {
     "end_time": "2024-08-17T15:11:20.096762Z",
     "start_time": "2024-08-17T15:11:20.091456Z"
    }
   },
   "outputs": [],
   "source": [
    "dataset_test = pd.read_csv('../datasets/dataset_test.csv')\n",
    "weights = pd.read_csv('./result_train_weights.csv')"
   ]
  },
  {
   "cell_type": "code",
   "execution_count": 60,
   "id": "ea6ae0cc-eab8-4c1d-bb01-36ed3ccb3ece",
   "metadata": {
    "ExecuteTime": {
     "end_time": "2024-08-17T15:11:20.460012Z",
     "start_time": "2024-08-17T15:11:20.453510Z"
    }
   },
   "outputs": [],
   "source": [
    "X_test = dataset_test.select_dtypes(include=['number']).drop(columns=['Index', 'Hogwarts House', 'Care of Magical Creatures', 'Arithmancy', 'Astronomy'])\n",
    "X_test = X_test.apply(lambda x: (x - x.mean()) / x.std())\n",
    "X_test.fillna(0, inplace=True)"
   ]
  },
  {
   "cell_type": "code",
   "execution_count": 61,
   "id": "2332a4c2-8cc8-40a4-b9b7-3a1ec4839c15",
   "metadata": {
    "ExecuteTime": {
     "end_time": "2024-08-17T15:11:20.625026Z",
     "start_time": "2024-08-17T15:11:20.622991Z"
    }
   },
   "outputs": [],
   "source": [
    "ones = np.ones((X_test.shape[0], 1))\n",
    "X_test = np.column_stack((X_test,ones))"
   ]
  },
  {
   "cell_type": "code",
   "execution_count": 78,
   "id": "598827e4-5a12-4a26-9aac-ec1c51eb6b1b",
   "metadata": {
    "ExecuteTime": {
     "end_time": "2024-08-17T15:11:20.803337Z",
     "start_time": "2024-08-17T15:11:20.798418Z"
    }
   },
   "outputs": [
    {
     "data": {
      "text/plain": [
       "(400, 4)"
      ]
     },
     "execution_count": 78,
     "metadata": {},
     "output_type": "execute_result"
    }
   ],
   "source": [
    "W = np.array(weights.drop(columns=weights.columns[0]))\n",
    "Z = np.dot(X_test, W)\n",
    "# Z.shape"
   ]
  },
  {
   "cell_type": "code",
   "execution_count": 68,
   "id": "201c67ea-4220-42a1-8e40-618144b24ca8",
   "metadata": {
    "ExecuteTime": {
     "end_time": "2024-08-17T15:11:20.964921Z",
     "start_time": "2024-08-17T15:11:20.961510Z"
    }
   },
   "outputs": [],
   "source": [
    "def sigmoid(Z):\n",
    "    return 1 / (1 + np.exp(-Z))"
   ]
  },
  {
   "cell_type": "code",
   "execution_count": 75,
   "id": "6e4cb9c9-a818-4883-a946-4f6c919f6692",
   "metadata": {
    "ExecuteTime": {
     "end_time": "2024-08-17T15:11:21.135436Z",
     "start_time": "2024-08-17T15:11:21.132023Z"
    }
   },
   "outputs": [
    {
     "name": "stdout",
     "output_type": "stream",
     "text": [
      "[[0.00752782 0.0011676  0.02358796 0.99160174]\n",
      " [0.97424183 0.00565228 0.01451387 0.00464447]\n",
      " [0.00343876 0.00388837 0.99671311 0.00145059]\n",
      " ...\n",
      " [0.00822053 0.02902101 0.00715324 0.94944303]\n",
      " [0.99490489 0.01113769 0.00382336 0.00197733]\n",
      " [0.60309731 0.00201125 0.00749579 0.46556394]]\n",
      "[3 0 2 3 3 1 0 3 0 3 3 1 1 1 1 3 0 1 0 3 3 1 0 0 3 3 0 1 2 0 3 3 2 3 3 0 2\n",
      " 0 1 0 0 1 3 1 3 0 1 2 0 1 0 3 0 0 3 1 1 0 3 2 2 2 3 3 0 3 3 0 3 0 1 1 2 0\n",
      " 2 3 3 2 0 2 0 3 1 2 2 3 3 3 0 0 3 1 2 3 0 0 2 1 3 0 3 3 3 1 0 0 3 1 1 3 3\n",
      " 1 2 0 3 0 0 3 1 0 2 3 2 2 0 0 1 0 3 0 0 2 2 1 3 0 0 1 2 3 3 0 2 0 2 0 0 3\n",
      " 3 0 3 2 2 0 0 2 3 1 3 0 0 3 3 3 0 1 3 3 3 3 2 3 3 1 3 2 2 3 3 1 0 0 2 1 2\n",
      " 2 3 0 3 1 2 3 2 0 0 3 0 3 3 2 2 3 0 3 2 1 0 3 2 0 2 3 1 0 1 1 3 3 2 2 2 2\n",
      " 3 3 2 0 0 0 3 3 2 3 1 0 3 3 3 1 2 2 3 2 3 3 2 2 0 0 3 3 1 1 3 3 0 0 3 0 3\n",
      " 0 1 0 0 3 3 0 0 2 0 0 3 1 0 2 0 3 0 2 2 3 3 3 3 0 3 0 0 1 2 0 2 2 0 3 3 2\n",
      " 1 3 3 3 3 3 3 3 0 1 3 0 3 1 3 3 3 2 0 3 0 1 3 1 1 0 0 1 0 0 1 3 1 2 0 3 2\n",
      " 0 0 3 0 3 2 3 3 1 0 2 3 3 3 0 0 1 1 2 3 0 1 3 3 3 2 3 0 2 2 0 3 2 3 3 2 3\n",
      " 1 2 2 0 3 3 0 1 2 1 2 3 2 2 2 2 0 0 3 0 1 3 3 0 0 1 3 3 0 0]\n"
     ]
    }
   ],
   "source": [
    "Y_hat_test = sigmoid(Z)\n",
    "# print(Y_hat_test)\n",
    "# les scores des differentes classes n'est pas lies en eux. \n",
    "# L'application de sigmoid ne forme pas une distribution de proba ou la somme ne fait pad focrement 1\n",
    "# les valeurs de Z sont comprime entre 0 et 1 independamment \n",
    "y_pred = np.argmax(Y_hat_test, axis=1) # classification multiclasse a partir des modeles binaires\n",
    "print(y_pred)"
   ]
  },
  {
   "cell_type": "code",
   "execution_count": 65,
   "id": "0344d299-9e11-425b-9e04-abc8b0e80e4a",
   "metadata": {
    "ExecuteTime": {
     "end_time": "2024-08-17T15:19:18.319671Z",
     "start_time": "2024-08-17T15:19:18.315783Z"
    }
   },
   "outputs": [],
   "source": [
    "houses = weights.drop(columns='Unnamed: 0')\n",
    "houses = houses.columns\n",
    "\n",
    "result = 'Index,Hogwarts Houses\\n'\n",
    "index = 0\n",
    "for i in y_pred:\n",
    "    result += f\"{index},{houses[i]}\\n\"\n",
    "    index += 1\n",
    "\n",
    "with open('houses.csv', 'w', newline='') as file:\n",
    "    file.write(result)"
   ]
  },
  {
   "cell_type": "code",
   "execution_count": null,
   "id": "15e6af88-107a-4466-b071-3ff86a23f158",
   "metadata": {
    "ExecuteTime": {
     "end_time": "2024-08-17T14:55:07.315855Z",
     "start_time": "2024-08-17T14:55:07.313335Z"
    }
   },
   "outputs": [],
   "source": []
  }
 ],
 "metadata": {
  "kernelspec": {
   "display_name": "Python 3 (ipykernel)",
   "language": "python",
   "name": "python3"
  },
  "language_info": {
   "codemirror_mode": {
    "name": "ipython",
    "version": 3
   },
   "file_extension": ".py",
   "mimetype": "text/x-python",
   "name": "python",
   "nbconvert_exporter": "python",
   "pygments_lexer": "ipython3",
   "version": "3.10.12"
  }
 },
 "nbformat": 4,
 "nbformat_minor": 5
}

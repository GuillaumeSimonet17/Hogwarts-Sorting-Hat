{
 "cells": [
  {
   "cell_type": "code",
   "execution_count": 1,
   "id": "0f077fdf-defb-4411-a139-ed63891f3b48",
   "metadata": {},
   "outputs": [],
   "source": [
    "import sys\n",
    "import pandas as pd\n",
    "import statistic_lib as st"
   ]
  },
  {
   "cell_type": "code",
   "execution_count": 2,
   "id": "8e0ea3f1-5f58-4ccf-9563-9b9aeb203bad",
   "metadata": {},
   "outputs": [],
   "source": [
    "\n",
    "def describe_dataset(df_numeric):\n",
    "    titles = df_numeric.columns\n",
    "    df_stats = pd.DataFrame(index=['Count', 'Mean', 'Std', 'Min', '25%', '50%', '75%', 'Max', 'Sum', 'Var', 'Skw'], columns=titles)\n",
    "\n",
    "    for col in titles:\n",
    "        df_stats.at['Count', col] = st.count(df_numeric[col])\n",
    "        df_stats.at['Mean', col] = st.mean(df_numeric[col])\n",
    "        df_stats.at['Std', col] = st.std(df_numeric[col])\n",
    "        df_stats.at['Min', col] = st.min_custom(df_numeric[col])\n",
    "        df_stats.at['25%', col] = st.first_quartile(df_numeric[col])\n",
    "        df_stats.at['50%', col] = st.median(df_numeric[col])\n",
    "        df_stats.at['75%', col] = st.third_quartile(df_numeric[col])\n",
    "        df_stats.at['Max', col] = st.max_custom(df_numeric[col])\n",
    "        df_stats.at['Sum', col] = st.sum_custom(df_numeric[col])\n",
    "        df_stats.at['Var', col] = st.var(df_numeric[col])\n",
    "        df_stats.at['Skw', col] = st.skewness(df_numeric[col])\n",
    "        df_stats.at['Kur', col] = st.kurtosis(df_numeric[col])\n",
    "\n",
    "    print(df_stats)"
   ]
  },
  {
   "cell_type": "markdown",
   "id": "2bf95111-52a6-4889-b253-14e111c75311",
   "metadata": {},
   "source": [
    "#### Skewness (Asymétrie) : mesure la symétrie de la distribution des données autour de sa moyenne\n",
    "- Skewness Positive : Indique que la queue de la distribution est plus longue du côté droit. Cela signifie que les valeurs sont étirées vers des valeurs plus grandes.\n",
    "- Negative : c'est l'inverse.\n",
    "- Nulle : la distribution est symétrique autour de la moyenne.\n",
    "\n",
    "#### Kurtosis, ou aplatissement, mesure la \"queue\" de la distribution des données. \n",
    "Elle indique la présence de valeurs extrêmes par rapport à une distribution normale.\n",
    "- Kurtosis Positive : Indique que la distribution a des queues plus lourdes que la normale. Cela signifie qu'il y a plus de valeurs extrêmes.\n",
    "- Kurtosis Négative : Indique que la distribution a des queues plus légères que la normale. Cela signifie qu'il y a moins de valeurs extrêmes.\n",
    "- Kurtosis Nulle (Mesokurtic) : Indique que la distribution est similaire à une distribution normale en termes de queue.\n"
   ]
  },
  {
   "cell_type": "code",
   "execution_count": 4,
   "id": "d1a01fda-6f24-4bc0-97af-53bdd9ce0c15",
   "metadata": {},
   "outputs": [
    {
     "name": "stdout",
     "output_type": "stream",
     "text": [
      "               Index        Arithmancy      Astronomy    Herbology  \\\n",
      "Count           1600              1566           1568         1567   \n",
      "Mean           799.5      49634.570243      39.797131      1.14102   \n",
      "Std        462.02453      16679.806036     520.298268     5.219682   \n",
      "Min                0          -24370.0    -966.740546   -10.295663   \n",
      "25%            399.5           38513.0    -489.608997    -4.308182   \n",
      "50%            799.5           49013.5     260.289446     3.469012   \n",
      "75%           1199.5           60794.5     525.151146     5.419183   \n",
      "Max             1599          104956.0     1016.21194    11.612895   \n",
      "Sum          1279200        77727737.0   62401.901236  1787.977603   \n",
      "Var    213466.666667  278215929.383881  270710.287273     27.24508   \n",
      "Skw              0.0         -0.041959      -0.094725    -0.398761   \n",
      "Kur             -1.2          0.266468      -1.710373    -1.390525   \n",
      "\n",
      "      Defense Against the Dark Arts Divination Muggle Studies  Ancient Runes  \\\n",
      "Count                          1569       1561           1565           1565   \n",
      "Mean                      -0.387863    3.15391    -224.589915      495.74797   \n",
      "Std                        5.212794   4.155301      486.34484     106.285165   \n",
      "Min                      -10.162119     -8.727   -1086.496835     283.869609   \n",
      "25%                       -5.259095      3.099    -577.580096     397.511047   \n",
      "50%                       -2.589342      4.624    -419.164294     463.918305   \n",
      "75%                         4.90468      5.667     254.994857      597.49223   \n",
      "Max                        9.667405     10.032    1092.388611      745.39622   \n",
      "Sum                     -608.557827   4923.253 -351483.216761  775845.573143   \n",
      "Var                       27.173218  17.266526  236531.303056   11296.536209   \n",
      "Skw                        0.093347  -1.380525       0.825615       0.033549   \n",
      "Kur                       -1.710597   0.580529      -0.719126       -1.59111   \n",
      "\n",
      "      History of Magic Transfiguration      Potions Care of Magical Creatures  \\\n",
      "Count             1557            1566         1570                      1560   \n",
      "Mean          2.963095     1030.096946     5.950373                 -0.053427   \n",
      "Std           4.425775       44.125116     3.147854                  0.971457   \n",
      "Min          -8.858993       906.62732    -4.697484                 -3.313676   \n",
      "25%           2.218653     1026.248273     3.648671                 -0.672217   \n",
      "50%           4.378176     1045.506996     5.874837                 -0.044811   \n",
      "75%           5.825242     1058.427433     8.247556                  0.591428   \n",
      "Max          11.889713     1098.958201    13.536762                  3.056546   \n",
      "Sum        4613.538316  1613131.818042  9342.085599                -83.346333   \n",
      "Var          19.587481      1947.02585     9.908986                  0.943729   \n",
      "Skw          -1.047859       -1.230343    -0.024459                 -0.061669   \n",
      "Kur          -0.063657        0.234071    -0.516794                  0.010774   \n",
      "\n",
      "             Charms       Flying  \n",
      "Count          1600         1600  \n",
      "Mean    -243.374409    21.958012  \n",
      "Std         8.78364    97.631602  \n",
      "Min      -261.04892      -181.47  \n",
      "25%      -250.65793        -41.9  \n",
      "50%     -244.867765       -2.515  \n",
      "75%      -232.54712        50.67  \n",
      "Max      -225.42814       279.07  \n",
      "Sum   -389399.05442     35132.82  \n",
      "Var       77.152329  9531.929722  \n",
      "Skw        0.390745     0.884154  \n",
      "Kur       -1.085882    -0.144466  \n"
     ]
    }
   ],
   "source": [
    "df = pd.read_csv('../datasets/dataset_train.csv')\n",
    "df_numeric = df.select_dtypes(include=['number'])\n",
    "describe_dataset(df_numeric)"
   ]
  },
  {
   "cell_type": "code",
   "execution_count": null,
   "id": "8cdbaa5f-ed43-4fd6-8867-f2fd234068bb",
   "metadata": {},
   "outputs": [],
   "source": []
  }
 ],
 "metadata": {
  "kernelspec": {
   "display_name": "Python 3 (ipykernel)",
   "language": "python",
   "name": "python3"
  },
  "language_info": {
   "codemirror_mode": {
    "name": "ipython",
    "version": 3
   },
   "file_extension": ".py",
   "mimetype": "text/x-python",
   "name": "python",
   "nbconvert_exporter": "python",
   "pygments_lexer": "ipython3",
   "version": "3.10.12"
  }
 },
 "nbformat": 4,
 "nbformat_minor": 5
}

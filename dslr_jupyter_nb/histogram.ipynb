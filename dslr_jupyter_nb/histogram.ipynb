{
 "cells": [
  {
   "cell_type": "code",
   "execution_count": 1,
   "id": "afcac6b0-0255-47b7-89ae-047abf5c6260",
   "metadata": {},
   "outputs": [],
   "source": [
    "import sys\n",
    "import statistic_lib as st\n",
    "import pandas as pd\n",
    "import matplotlib.pyplot as plt\n",
    "%matplotlib tk"
   ]
  },
  {
   "cell_type": "code",
   "execution_count": 2,
   "id": "4b291e58-8a05-4d10-8906-993be72f1b82",
   "metadata": {},
   "outputs": [],
   "source": [
    "def scale(df):\n",
    "    titles = df.columns[1:]\n",
    "    for col in titles:\n",
    "        arr = df[col]\n",
    "        X_std = st.std(arr)\n",
    "        mean_X = st.mean(arr)\n",
    "        if X_std != 0:\n",
    "            scaled_X = (arr - mean_X) / X_std\n",
    "        df[col] = scaled_X\n",
    "    return df"
   ]
  },
  {
   "cell_type": "code",
   "execution_count": 6,
   "id": "53c599cd-da25-4d6b-9c28-d57355f70d21",
   "metadata": {},
   "outputs": [
    {
     "name": "stdout",
     "output_type": "stream",
     "text": [
      "The courses who has a homogeneous score distribution between all four houses are :\n",
      "-  Arithmancy\n",
      "-  Care of Magical Creatures\n"
     ]
    }
   ],
   "source": [
    "df = pd.read_csv('../datasets/dataset_train.csv')\n",
    "\n",
    "df_numeric = scale(df.select_dtypes(include=['number']))\n",
    "\n",
    "slytherin = df_numeric[df['Hogwarts House'] == 'Slytherin']\n",
    "ravenclaw = df_numeric[df['Hogwarts House'] == 'Ravenclaw']\n",
    "gryffindor = df_numeric[df['Hogwarts House'] == 'Gryffindor']\n",
    "hufflepuff = df_numeric[df['Hogwarts House'] == 'Hufflepuff']\n",
    "\n",
    "courses = df_numeric.drop(columns=['Index']).columns\n",
    "fig, axes = plt.subplots(nrows=int(len(courses)/3)+1, ncols=3, figsize=(12, 6*len(courses)), sharex=False)\n",
    "plt.subplots_adjust(hspace=0.5)\n",
    "\n",
    "homogeneous_courses = []\n",
    "\n",
    "for i, course in enumerate(courses):\n",
    "\n",
    "    data = [slytherin[course], ravenclaw[course], gryffindor[course], hufflepuff[course]]\n",
    "    labels = ['Slytherin', 'Ravenclaw', 'Gryffindor', 'Hufflepuff']\n",
    "    colors = ['green', 'blue', 'red', 'yellow']\n",
    "\n",
    "    if abs((slytherin[course].std() - df_numeric[course].std())) < 0.2 and \\\n",
    "        abs((ravenclaw[course].std() - df_numeric[course].std())) < 0.2 and \\\n",
    "        abs((gryffindor[course].std() - df_numeric[course].std())) < 0.2 and \\\n",
    "        abs((hufflepuff[course].std() - df_numeric[course].std())) < 0.2:\n",
    "        homogeneous_courses.append(course)\n",
    "\n",
    "    ax = axes[i // 3, i % 3]\n",
    "    ax.hist(data, bins=10, label=labels, color=colors)\n",
    "    ax.set_title(course)\n",
    "\n",
    "    if i == 0:\n",
    "        ax.legend()\n",
    "\n",
    "if len(homogeneous_courses) == 1:\n",
    "    print(f'{homogeneous_courses} is a course who has a homogeneous score distribution between all four houses')\n",
    "if len(homogeneous_courses) == 0:\n",
    "    print('No courses has a score distribution homogeneous between all four houses')\n",
    "if len(homogeneous_courses) > 1:\n",
    "    print('The courses who has a homogeneous score distribution between all four houses are :')\n",
    "    for course in homogeneous_courses:\n",
    "        print('- ', course)\n",
    "\n",
    "fig.text(0.5, 0.04, 'Notes', ha='center', va='center')\n",
    "fig.text(0.06, 0.5, 'Nombre d\\'élèves', ha='center', va='center', rotation='vertical')\n",
    "\n",
    "plt.show()"
   ]
  },
  {
   "cell_type": "code",
   "execution_count": null,
   "id": "4db13399-4dcb-4b4c-8e80-71cb2cf4d0de",
   "metadata": {},
   "outputs": [],
   "source": []
  },
  {
   "cell_type": "code",
   "execution_count": null,
   "id": "bc8d28f6-8d03-4e7c-87f1-17507d33713d",
   "metadata": {},
   "outputs": [],
   "source": []
  },
  {
   "cell_type": "code",
   "execution_count": null,
   "id": "0e439fa3-e332-47b4-9af6-a447c18c5fd4",
   "metadata": {},
   "outputs": [],
   "source": []
  }
 ],
 "metadata": {
  "kernelspec": {
   "display_name": "Python 3 (ipykernel)",
   "language": "python",
   "name": "python3"
  },
  "language_info": {
   "codemirror_mode": {
    "name": "ipython",
    "version": 3
   },
   "file_extension": ".py",
   "mimetype": "text/x-python",
   "name": "python",
   "nbconvert_exporter": "python",
   "pygments_lexer": "ipython3",
   "version": "3.10.12"
  }
 },
 "nbformat": 4,
 "nbformat_minor": 5
}

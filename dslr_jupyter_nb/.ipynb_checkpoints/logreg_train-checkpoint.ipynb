{
 "cells": [
  {
   "cell_type": "code",
   "execution_count": 175,
   "id": "c766f1e3-55c5-4942-8f14-5d480d879120",
   "metadata": {},
   "outputs": [],
   "source": [
    "import sys\n",
    "import statistic_lib as st\n",
    "import numpy as np\n",
    "import pandas as pd\n",
    "import csv"
   ]
  },
  {
   "cell_type": "code",
   "execution_count": 176,
   "id": "d9dd661d-fcf1-4189-a2a3-e477f639577a",
   "metadata": {},
   "outputs": [],
   "source": [
    "def scale(df):\n",
    "    titles = df.columns\n",
    "    for col in titles:\n",
    "        arr = df[col]\n",
    "        X_std = st.std(arr)\n",
    "        mean_X = st.mean(arr)\n",
    "        if X_std != 0:\n",
    "            scaled_X = (arr - mean_X) / X_std\n",
    "        df[col] = scaled_X\n",
    "    return df"
   ]
  },
  {
   "cell_type": "code",
   "execution_count": 214,
   "id": "c020844f-ca37-4a6d-a452-7ae1a44c2cb1",
   "metadata": {},
   "outputs": [],
   "source": [
    "df = pd.read_csv('../datasets/dataset_train.csv')\n",
    "\n",
    "df = df.dropna()\n",
    "\n",
    "df_numeric = df.select_dtypes(include=['number']).drop(columns=['Index', 'Care of Magical Creatures', 'Arithmancy', 'Astronomy'])"
   ]
  },
  {
   "cell_type": "code",
   "execution_count": 215,
   "id": "0f97a29a-09d8-4031-8634-2704427231e8",
   "metadata": {},
   "outputs": [],
   "source": [
    "nb_exemples = len(df_numeric)\n",
    "nb_features = len(df_numeric.columns)\n",
    "nb_classes = 4"
   ]
  },
  {
   "cell_type": "code",
   "execution_count": 216,
   "id": "d07a083b-3c38-4ae3-baf2-0d1c7f192bc6",
   "metadata": {},
   "outputs": [
    {
     "data": {
      "text/plain": [
       "array([[0., 0., 1., 0.],\n",
       "       [0., 1., 0., 0.],\n",
       "       [0., 0., 1., 0.],\n",
       "       ...,\n",
       "       [1., 0., 0., 0.],\n",
       "       [0., 0., 0., 1.],\n",
       "       [0., 0., 0., 1.]])"
      ]
     },
     "execution_count": 216,
     "metadata": {},
     "output_type": "execute_result"
    }
   ],
   "source": [
    "Y = np.zeros((nb_exemples, nb_classes))\n",
    "\n",
    "houses = ['Gryffindor', 'Slytherin', 'Ravenclaw', 'Hufflepuff']\n",
    "\n",
    "house_to_index = {house: index for index, house in enumerate(houses)}\n",
    "\n",
    "for i, house in enumerate(df['Hogwarts House']):\n",
    "    Y[i, house_to_index[house]] = 1\n",
    "Y"
   ]
  },
  {
   "cell_type": "code",
   "execution_count": 217,
   "id": "a5a76427-f695-4970-adb0-da3e87262959",
   "metadata": {},
   "outputs": [],
   "source": [
    "X = np.array(scale(df_numeric))"
   ]
  },
  {
   "cell_type": "code",
   "execution_count": 218,
   "id": "df97d15d-b665-4b43-b85b-8990251b1aa1",
   "metadata": {},
   "outputs": [
    {
     "data": {
      "text/plain": [
       "(1251, 10)"
      ]
     },
     "execution_count": 218,
     "metadata": {},
     "output_type": "execute_result"
    }
   ],
   "source": [
    "X.shape"
   ]
  },
  {
   "cell_type": "code",
   "execution_count": 219,
   "id": "9cfb8c28-e3fc-40b5-a818-2183cf9c8953",
   "metadata": {},
   "outputs": [
    {
     "name": "stdout",
     "output_type": "stream",
     "text": [
      "(1251, 11)\n",
      "[[ 1.          0.86912091  1.02616421 ... -0.69991363  1.19856638\n",
      "  -0.51167711]\n",
      " [ 1.         -1.37460944  1.1494017  ...  0.4150871  -1.0081526\n",
      "  -1.39751008]\n",
      " [ 1.          1.25177128  0.79224618 ...  0.89218017  1.81896781\n",
      "   0.07481882]\n",
      " ...\n",
      " [ 1.         -0.84134946 -0.95545673 ... -1.37069927 -0.94584842\n",
      "   1.79459968]\n",
      " [ 1.          0.43159401 -0.78196693 ... -0.66324604 -0.32605358\n",
      "  -1.02254566]\n",
      " [ 1.          0.81048621 -1.23370243 ... -1.26030525 -0.07908455\n",
      "  -0.79699392]]\n"
     ]
    }
   ],
   "source": [
    "ones = np.ones(X.shape[0])\n",
    "X = np.column_stack((ones,X))\n",
    "\n",
    "print(X.shape)\n",
    "print(X)"
   ]
  },
  {
   "cell_type": "markdown",
   "id": "0b9af7f8-820d-4768-aa2f-87ab0d81292f",
   "metadata": {},
   "source": [
    "### Fonction Softmax"
   ]
  },
  {
   "cell_type": "code",
   "execution_count": 220,
   "id": "5c32ea9c-91d9-4d2d-add7-e93b81bd8b55",
   "metadata": {},
   "outputs": [],
   "source": [
    "def softmax(Z):\n",
    "    exp_z = np.exp(Z - np.max(Z, axis=1, keepdims=True))  # Numerical stability\n",
    "    return exp_z / np.sum(exp_z, axis=1, keepdims=True)"
   ]
  },
  {
   "cell_type": "markdown",
   "id": "3dbcac7a-0dcf-4959-ad8d-0a2bd1807196",
   "metadata": {},
   "source": [
    "On soustrait le maximum de chaque ligne de Z avant d'appliquer l'exponentielle.\n",
    "Cela aide à stabiliser les calculs numériques et à éviter les débordements.\n",
    "<b>On divise chaque élément exponentié de Z par la somme des exponentielles de sa ligne.</b> Cela transforme chaque ligne de Z en une distribution de probabilité (les éléments de chaque ligne s'additionnent à 1)."
   ]
  },
  {
   "cell_type": "markdown",
   "id": "97159325-bb24-49be-b675-7f4545ba8e71",
   "metadata": {},
   "source": [
    "### Fonction Coût : entropie croisée"
   ]
  },
  {
   "cell_type": "code",
   "execution_count": 221,
   "id": "f2015ee0-563b-4ad3-b6ad-3b928d433fd3",
   "metadata": {},
   "outputs": [],
   "source": [
    "def cross_entropy(Y, Y_hat):\n",
    "    o = -np.sum(Y * np.log(Y_hat + 1e-9), axis=1)\n",
    "    # o est un vecteur contenant toutes les sommes des probabilités d'un exemples (d'une ligne)\n",
    "    return o\n",
    "\n",
    "def cost_function(Y, Y_hat):\n",
    "    total_cost = np.sum(cross_entropy(Y, Y_hat))\n",
    "    # la somme de toutes les entropies croisées de chaque exemples\n",
    "    return total_cost / nb_exemples"
   ]
  },
  {
   "cell_type": "markdown",
   "id": "5c5d3217-647c-4d06-af29-e260588faad6",
   "metadata": {},
   "source": [
    "### Descente de gradient"
   ]
  },
  {
   "cell_type": "code",
   "execution_count": 222,
   "id": "a7fda4fc-eb95-446e-a397-c45069591fae",
   "metadata": {},
   "outputs": [],
   "source": [
    "def compute_gradients(X, Y, Y_hat):\n",
    "    dW = np.dot(X.T, (Y_hat - Y)) / nb_exemples\n",
    "    db = np.sum(Y_hat - Y, axis=0, keepdims=True) / nb_exemples\n",
    "    return dW, db"
   ]
  },
  {
   "cell_type": "code",
   "execution_count": 236,
   "id": "204d6d6d-ee5e-4d8c-9d02-106f2ed916e7",
   "metadata": {},
   "outputs": [],
   "source": [
    "def gradient_descent(X, Y, learning_rate=0.01, num_iterations=1000):\n",
    "    biais = np.zeros((1, nb_classes))\n",
    "\n",
    "    sequence = np.arange(0.1, 0.4, 0.1)\n",
    "    W = np.full((nb_features,nb_classes), sequence)\n",
    "    W = np.row_stack((biais,W))\n",
    "\n",
    "    for i in range(num_iterations):\n",
    "        Z = np.dot(X, W) # combinaison linéaire\n",
    "\n",
    "        Y_hat = softmax(Z)\n",
    "        \n",
    "        cost = cost_function(Y, Y_hat)\n",
    "        \n",
    "        dW, db = compute_gradients(X, Y, Y_hat)\n",
    "        \n",
    "        W -= learning_rate * dW\n",
    "    return W, Y_hat"
   ]
  },
  {
   "cell_type": "code",
   "execution_count": 237,
   "id": "33eb188f-745e-4768-af13-45d2c64feb7e",
   "metadata": {},
   "outputs": [
    {
     "data": {
      "text/plain": [
       "array([[1.18374224e-02, 1.08134425e-02, 9.48607610e-01, 2.87415254e-02],\n",
       "       [6.16612665e-04, 9.93316076e-01, 3.48245327e-03, 2.58485853e-03],\n",
       "       [3.65843979e-03, 2.51981371e-03, 9.89742687e-01, 4.07905902e-03],\n",
       "       ...,\n",
       "       [9.94077209e-01, 4.06812712e-04, 2.37813621e-03, 3.13784206e-03],\n",
       "       [1.82633536e-03, 3.34395795e-03, 1.57537834e-03, 9.93254328e-01],\n",
       "       [1.43446875e-03, 5.51887238e-04, 2.09377882e-03, 9.95919865e-01]])"
      ]
     },
     "execution_count": 237,
     "metadata": {},
     "output_type": "execute_result"
    }
   ],
   "source": [
    "W, Y_hat = gradient_descent(X, Y, learning_rate=0.01, num_iterations=10000)\n",
    "Y_hat"
   ]
  },
  {
   "cell_type": "code",
   "execution_count": 235,
   "id": "39aa0aa9-6c56-422d-b2cd-a5a10096ad9f",
   "metadata": {},
   "outputs": [],
   "source": [
    "with open('result_train_weights.csv', 'w', newline='') as file:\n",
    "    writer = csv.writer(file)\n",
    "    writer.writerow(houses)\n",
    "    writer.writerows(W)"
   ]
  },
  {
   "cell_type": "code",
   "execution_count": null,
   "id": "b7aed694-ec6b-45a0-bb47-22e615a81b72",
   "metadata": {},
   "outputs": [],
   "source": []
  },
  {
   "cell_type": "code",
   "execution_count": null,
   "id": "7656067e-d37e-4d29-b566-6af39ebe41eb",
   "metadata": {},
   "outputs": [],
   "source": []
  }
 ],
 "metadata": {
  "kernelspec": {
   "display_name": "Python 3 (ipykernel)",
   "language": "python",
   "name": "python3"
  },
  "language_info": {
   "codemirror_mode": {
    "name": "ipython",
    "version": 3
   },
   "file_extension": ".py",
   "mimetype": "text/x-python",
   "name": "python",
   "nbconvert_exporter": "python",
   "pygments_lexer": "ipython3",
   "version": "3.10.12"
  }
 },
 "nbformat": 4,
 "nbformat_minor": 5
}

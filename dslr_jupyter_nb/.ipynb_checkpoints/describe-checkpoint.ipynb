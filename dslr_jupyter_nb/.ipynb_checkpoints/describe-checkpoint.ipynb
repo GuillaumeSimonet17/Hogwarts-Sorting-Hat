{
 "cells": [
  {
   "cell_type": "code",
   "execution_count": 3,
   "id": "0f077fdf-defb-4411-a139-ed63891f3b48",
   "metadata": {},
   "outputs": [],
   "source": [
    "import sys\n",
    "import pandas as pd\n",
    "import statistic_lib as st"
   ]
  },
  {
   "cell_type": "code",
   "execution_count": 6,
   "id": "8e0ea3f1-5f58-4ccf-9563-9b9aeb203bad",
   "metadata": {},
   "outputs": [],
   "source": [
    "def describe_dataset(df_numeric):\n",
    "    titles = (df_numeric.columns[1:])\n",
    "    labels = ['Count', 'Mean', 'Std', 'Min', '25%', '50%', '75%', 'Max']\n",
    "    df_stats = pd.DataFrame(index=labels, columns=titles)\n",
    "\n",
    "    for col in titles:\n",
    "        df_stats.at['Count', col] = st.count(df_numeric[col])\n",
    "        df_stats.at['Mean', col] = st.mean(df_numeric[col])\n",
    "        df_stats.at['Std', col] = st.std(df_numeric[col])\n",
    "        df_stats.at['Min', col] = st.min(df_numeric[col])\n",
    "        df_stats.at['25%', col] = st.first_quartile(df_numeric[col])\n",
    "        df_stats.at['50%', col] = st.median(df_numeric[col])\n",
    "        df_stats.at['75%', col] = st.third_quartile(df_numeric[col])\n",
    "        df_stats.at['Max', col] = st.max(df_numeric[col])\n",
    "\n",
    "    print(df_stats)"
   ]
  },
  {
   "cell_type": "code",
   "execution_count": 7,
   "id": "d1a01fda-6f24-4bc0-97af-53bdd9ce0c15",
   "metadata": {},
   "outputs": [
    {
     "name": "stdout",
     "output_type": "stream",
     "text": [
      "         Arithmancy   Astronomy  Herbology Defense Against the Dark Arts  \\\n",
      "Count          1566        1568       1567                          1569   \n",
      "Mean   49634.570243   39.797131    1.14102                     -0.387863   \n",
      "Std    16674.479577   520.13233   5.218016                      5.211132   \n",
      "Min        -24370.0 -966.740546 -10.295663                    -10.162119   \n",
      "25%         38513.0 -489.493777  -4.308182                     -5.251511   \n",
      "50%         49018.0  261.644731    3.47766                      -2.58113   \n",
      "75%         60873.0   525.90954   5.422106                       4.90575   \n",
      "Max        104956.0  1016.21194  11.612895                      9.667405   \n",
      "\n",
      "      Divination Muggle Studies Ancient Runes History of Magic  \\\n",
      "Count       1561           1565          1565             1557   \n",
      "Mean     3.15391    -224.589915     495.74797         2.963095   \n",
      "Std      4.15397     486.189433    106.251202         4.424353   \n",
      "Min       -8.727   -1086.496835    283.869609        -8.858993   \n",
      "25%          3.1    -577.577682    397.526978         2.221199   \n",
      "50%       4.6245    -418.912644    464.122952         4.378897   \n",
      "75%       5.6675     256.886191    597.598097         5.830729   \n",
      "Max       10.032    1092.388611     745.39622        11.889713   \n",
      "\n",
      "      Transfiguration    Potions Care of Magical Creatures      Charms  \\\n",
      "Count            1566       1570                      1560        1600   \n",
      "Mean      1030.096946   5.950373                 -0.053427 -243.374409   \n",
      "Std         44.111025   3.146852                  0.971146    8.780895   \n",
      "Min         906.62732  -4.697484                 -3.313676  -261.04892   \n",
      "25%       1026.248273   3.648671                 -0.670996  -250.64727   \n",
      "50%       1045.533335   5.877582                 -0.043296  -244.86751   \n",
      "75%       1058.465401    8.25155                  0.594446  -232.53675   \n",
      "Max       1098.958201  13.536762                  3.056546  -225.42814   \n",
      "\n",
      "          Flying  \n",
      "Count       1600  \n",
      "Mean   21.958013  \n",
      "Std    97.601087  \n",
      "Min      -181.47  \n",
      "25%       -41.84  \n",
      "50%        -2.51  \n",
      "75%        50.89  \n",
      "Max       279.07  \n"
     ]
    }
   ],
   "source": [
    "df = pd.read_csv('../datasets/dataset_train.csv')\n",
    "df_numeric = df.select_dtypes(include=['number'])\n",
    "describe_dataset(df_numeric)"
   ]
  },
  {
   "cell_type": "code",
   "execution_count": null,
   "id": "0ebef9b8-8fd9-4d19-81bb-c61391e0aea1",
   "metadata": {},
   "outputs": [],
   "source": []
  }
 ],
 "metadata": {
  "kernelspec": {
   "display_name": "Python 3 (ipykernel)",
   "language": "python",
   "name": "python3"
  },
  "language_info": {
   "codemirror_mode": {
    "name": "ipython",
    "version": 3
   },
   "file_extension": ".py",
   "mimetype": "text/x-python",
   "name": "python",
   "nbconvert_exporter": "python",
   "pygments_lexer": "ipython3",
   "version": "3.10.12"
  }
 },
 "nbformat": 4,
 "nbformat_minor": 5
}

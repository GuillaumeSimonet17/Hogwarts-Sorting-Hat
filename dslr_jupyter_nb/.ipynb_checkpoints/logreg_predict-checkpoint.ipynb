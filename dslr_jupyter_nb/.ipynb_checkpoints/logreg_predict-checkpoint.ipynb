{
 "cells": [
  {
   "cell_type": "code",
   "execution_count": 10,
   "id": "a1302fb5-3f83-4275-936b-07a28118e7e7",
   "metadata": {},
   "outputs": [],
   "source": [
    "import sys\n",
    "import statistic_lib as st\n",
    "import numpy as np\n",
    "import pandas as pd\n",
    "import csv"
   ]
  },
  {
   "cell_type": "code",
   "execution_count": 19,
   "id": "41763b2b-7b4c-4416-b3cd-cbd5d8ff0d8b",
   "metadata": {},
   "outputs": [],
   "source": [
    "dataset_test = pd.read_csv('../datasets/dataset_test.csv')\n",
    "weights = pd.read_csv('./result_train_weights.csv')"
   ]
  },
  {
   "cell_type": "code",
   "execution_count": 20,
   "id": "ea6ae0cc-eab8-4c1d-bb01-36ed3ccb3ece",
   "metadata": {},
   "outputs": [],
   "source": [
    "X_test = dataset_test.select_dtypes(include=['number']).drop(columns=['Index', 'Hogwarts House', 'Care of Magical Creatures', 'Arithmancy', 'Astronomy'])"
   ]
  },
  {
   "cell_type": "code",
   "execution_count": 21,
   "id": "2332a4c2-8cc8-40a4-b9b7-3a1ec4839c15",
   "metadata": {},
   "outputs": [],
   "source": [
    "ones = np.ones((X_test.shape[0], 1))\n",
    "X_test = np.column_stack((ones,X_test))"
   ]
  },
  {
   "cell_type": "code",
   "execution_count": 22,
   "id": "598827e4-5a12-4a26-9aac-ec1c51eb6b1b",
   "metadata": {},
   "outputs": [],
   "source": [
    "Z = np.dot(X_test, weights)"
   ]
  },
  {
   "cell_type": "code",
   "execution_count": 23,
   "id": "201c67ea-4220-42a1-8e40-618144b24ca8",
   "metadata": {},
   "outputs": [],
   "source": [
    "def softmax(z):\n",
    "    exp_z = np.exp(z - np.max(z, axis=1, keepdims=True))  # stabilité numérique\n",
    "    return exp_z / np.sum(exp_z, axis=1, keepdims=True)\n",
    "\n",
    "Y_hat = softmax(Z)"
   ]
  },
  {
   "cell_type": "code",
   "execution_count": 24,
   "id": "7245896a-697d-4932-b883-d6b2e59fd67a",
   "metadata": {},
   "outputs": [
    {
     "name": "stdout",
     "output_type": "stream",
     "text": [
      "[[0.00000000e+000 1.83936735e-092 3.18749849e-217 1.00000000e+000]\n",
      " [0.00000000e+000 0.00000000e+000 1.00000000e+000 0.00000000e+000]\n",
      " [3.58544906e-212 5.79278284e-094 3.19822294e-240 1.00000000e+000]\n",
      " ...\n",
      " [0.00000000e+000 3.39659821e-155 0.00000000e+000 1.00000000e+000]\n",
      " [0.00000000e+000 0.00000000e+000 1.00000000e+000 0.00000000e+000]\n",
      " [            nan             nan             nan             nan]]\n"
     ]
    }
   ],
   "source": [
    "print(Y_hat)"
   ]
  },
  {
   "cell_type": "code",
   "execution_count": 25,
   "id": "6e4cb9c9-a818-4883-a946-4f6c919f6692",
   "metadata": {},
   "outputs": [],
   "source": [
    "Y_hat_test = softmax(Z)\n",
    "y_pred = np.argmax(Y_hat_test, axis=1)\n"
   ]
  },
  {
   "cell_type": "code",
   "execution_count": 26,
   "id": "0344d299-9e11-425b-9e04-abc8b0e80e4a",
   "metadata": {},
   "outputs": [
    {
     "data": {
      "text/plain": [
       "array([3, 2, 3, 0, 3, 3, 2, 3, 2, 3, 3, 0, 3, 3, 3, 0, 2, 3, 2, 3, 0, 3,\n",
       "       2, 2, 0, 3, 2, 0, 3, 2, 3, 0, 3, 3, 3, 2, 3, 2, 3, 2, 2, 3, 0, 3,\n",
       "       0, 2, 3, 3, 2, 3, 2, 3, 2, 2, 3, 3, 0, 2, 3, 3, 3, 3, 3, 3, 2, 3,\n",
       "       3, 2, 3, 2, 3, 3, 3, 2, 0, 3, 3, 3, 0, 3, 2, 3, 3, 3, 0, 3, 3, 3,\n",
       "       2, 2, 0, 3, 3, 0, 2, 2, 3, 3, 0, 2, 3, 3, 3, 3, 2, 0, 3, 0, 0, 0,\n",
       "       3, 3, 2, 2, 3, 2, 0, 3, 0, 2, 3, 3, 3, 3, 2, 2, 3, 2, 3, 2, 2, 2,\n",
       "       2, 3, 3, 2, 2, 3, 3, 3, 3, 2, 0, 2, 3, 2, 0, 3, 3, 0, 3, 3, 3, 2,\n",
       "       2, 3, 3, 3, 3, 0, 2, 3, 3, 3, 2, 3, 3, 0, 3, 3, 3, 3, 3, 3, 3, 3,\n",
       "       0, 3, 3, 3, 2, 0, 3, 3, 3, 2, 3, 2, 3, 3, 3, 3, 3, 2, 2, 3, 2, 3,\n",
       "       0, 3, 3, 3, 2, 3, 3, 3, 2, 3, 2, 0, 3, 3, 3, 2, 3, 3, 3, 3, 3, 3,\n",
       "       3, 3, 3, 3, 3, 2, 2, 2, 3, 3, 3, 0, 3, 2, 3, 3, 3, 3, 3, 0, 3, 2,\n",
       "       3, 3, 3, 3, 2, 2, 0, 3, 3, 3, 3, 3, 0, 2, 3, 2, 3, 2, 0, 2, 2, 3,\n",
       "       3, 2, 0, 3, 0, 2, 3, 3, 2, 3, 2, 3, 0, 3, 3, 3, 3, 3, 3, 2, 0, 2,\n",
       "       0, 0, 3, 2, 3, 3, 2, 0, 3, 0, 3, 3, 3, 3, 3, 3, 0, 3, 0, 3, 3, 2,\n",
       "       3, 0, 3, 3, 3, 3, 2, 0, 2, 3, 0, 3, 3, 2, 2, 3, 2, 0, 3, 0, 3, 3,\n",
       "       2, 3, 0, 2, 2, 3, 2, 3, 0, 3, 3, 3, 2, 3, 0, 3, 3, 2, 2, 3, 3, 3,\n",
       "       3, 2, 0, 0, 3, 3, 3, 3, 2, 3, 2, 2, 3, 3, 3, 0, 3, 3, 0, 3, 3, 2,\n",
       "       3, 0, 2, 3, 0, 3, 3, 3, 3, 3, 3, 3, 2, 2, 3, 2, 3, 3, 0, 0, 2, 3,\n",
       "       3, 3, 2, 0])"
      ]
     },
     "execution_count": 26,
     "metadata": {},
     "output_type": "execute_result"
    }
   ],
   "source": [
    "y_pred"
   ]
  },
  {
   "cell_type": "code",
   "execution_count": null,
   "id": "816444df-f867-4f96-8044-00a8ea4c6c76",
   "metadata": {},
   "outputs": [],
   "source": []
  },
  {
   "cell_type": "code",
   "execution_count": null,
   "id": "4a2487f5-2bbf-42ae-9b36-c44cf3fb843d",
   "metadata": {},
   "outputs": [],
   "source": []
  }
 ],
 "metadata": {
  "kernelspec": {
   "display_name": "Python 3 (ipykernel)",
   "language": "python",
   "name": "python3"
  },
  "language_info": {
   "codemirror_mode": {
    "name": "ipython",
    "version": 3
   },
   "file_extension": ".py",
   "mimetype": "text/x-python",
   "name": "python",
   "nbconvert_exporter": "python",
   "pygments_lexer": "ipython3",
   "version": "3.10.12"
  }
 },
 "nbformat": 4,
 "nbformat_minor": 5
}

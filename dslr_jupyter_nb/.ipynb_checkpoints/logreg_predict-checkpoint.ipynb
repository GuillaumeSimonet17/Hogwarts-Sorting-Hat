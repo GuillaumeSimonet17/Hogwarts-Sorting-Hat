{
 "cells": [
  {
   "cell_type": "code",
   "execution_count": 102,
   "id": "a1302fb5-3f83-4275-936b-07a28118e7e7",
   "metadata": {},
   "outputs": [],
   "source": [
    "import sys\n",
    "import statistic_lib as st\n",
    "import numpy as np\n",
    "import pandas as pd\n",
    "import csv"
   ]
  },
  {
   "cell_type": "code",
   "execution_count": 116,
   "id": "41763b2b-7b4c-4416-b3cd-cbd5d8ff0d8b",
   "metadata": {},
   "outputs": [],
   "source": [
    "dataset_test = pd.read_csv('../datasets/dataset_test.csv')\n",
    "weights = pd.read_csv('./result_train_weights.csv')"
   ]
  },
  {
   "cell_type": "code",
   "execution_count": 117,
   "id": "ea6ae0cc-eab8-4c1d-bb01-36ed3ccb3ece",
   "metadata": {},
   "outputs": [],
   "source": [
    "X_test = dataset_test.select_dtypes(include=['number']).drop(columns=['Index', 'Hogwarts House', 'Care of Magical Creatures', 'Arithmancy', 'Astronomy'])\n",
    "X_test = X_test.apply(lambda x: (x - x.mean()) / x.std())\n",
    "X_test.fillna(0, inplace=True)"
   ]
  },
  {
   "cell_type": "code",
   "execution_count": 118,
   "id": "2332a4c2-8cc8-40a4-b9b7-3a1ec4839c15",
   "metadata": {},
   "outputs": [
    {
     "data": {
      "text/plain": [
       "array([[ 0.32335504, -1.25481856,  1.17828404, ..., -0.14902972,\n",
       "        -0.38858101,  1.        ],\n",
       "       [ 0.312486  ,  0.82955394,  0.75502037, ...,  1.36230678,\n",
       "        -0.52137372,  1.        ],\n",
       "       [-1.49767985, -0.52067217,  0.31042649, ..., -1.12433912,\n",
       "         1.85723377,  1.        ],\n",
       "       ...,\n",
       "       [ 0.76138236, -0.46559   ,  0.21045711, ..., -0.09535952,\n",
       "        -0.23236046,  1.        ],\n",
       "       [ 1.05830904,  1.52420214,  0.12770611, ...,  1.71168615,\n",
       "        -0.43743276,  1.        ],\n",
       "       [ 1.15509665,  0.        , -0.1341674 , ...,  1.43006399,\n",
       "        -0.33773316,  1.        ]])"
      ]
     },
     "execution_count": 118,
     "metadata": {},
     "output_type": "execute_result"
    }
   ],
   "source": [
    "ones = np.ones((X_test.shape[0], 1))\n",
    "X_test = np.column_stack((X_test,ones))\n",
    "X_test"
   ]
  },
  {
   "cell_type": "code",
   "execution_count": 119,
   "id": "598827e4-5a12-4a26-9aac-ec1c51eb6b1b",
   "metadata": {},
   "outputs": [
    {
     "data": {
      "text/plain": [
       "array([[-1.974238  , -2.81355901, -1.25399624,  3.72335434],\n",
       "       [12.01594854,  7.37641002,  7.31265685,  6.70499324],\n",
       "       [-7.07286916, -6.68707942, -0.19044232, -6.60964645],\n",
       "       ...,\n",
       "       [-0.47180611,  0.18921428, -0.67097542,  3.9606686 ],\n",
       "       [13.98748848,  8.6982952 ,  7.81720597,  7.22638291],\n",
       "       [ 3.31612785, -0.34899548,  0.9539235 ,  3.27175721]])"
      ]
     },
     "execution_count": 119,
     "metadata": {},
     "output_type": "execute_result"
    }
   ],
   "source": [
    "W = np.array(weights.drop(columns=weights.columns[0]))\n",
    "\n",
    "Z = np.dot(X_test, W)\n",
    "Z"
   ]
  },
  {
   "cell_type": "code",
   "execution_count": 120,
   "id": "201c67ea-4220-42a1-8e40-618144b24ca8",
   "metadata": {},
   "outputs": [],
   "source": [
    "def softmax(z):\n",
    "    exp_z = np.exp(z - np.max(z, axis=1, keepdims=True))  # stabilité numérique\n",
    "    return exp_z / np.sum(exp_z, axis=1, keepdims=True)\n",
    "\n",
    "Y_hat = softmax(Z)"
   ]
  },
  {
   "cell_type": "code",
   "execution_count": 121,
   "id": "7245896a-697d-4932-b883-d6b2e59fd67a",
   "metadata": {},
   "outputs": [
    {
     "name": "stdout",
     "output_type": "stream",
     "text": [
      "[[0.00331526 0.0014322  0.00681262 0.98843991]\n",
      " [0.97688232 0.00943879 0.00885582 0.00482307]\n",
      " [0.0010214  0.00150225 0.99585316 0.00162319]\n",
      " ...\n",
      " [0.01137714 0.02203487 0.00932255 0.95726543]\n",
      " [0.99177381 0.00500432 0.00207345 0.00114842]\n",
      " [0.48159984 0.01232944 0.04537264 0.46069808]]\n"
     ]
    }
   ],
   "source": [
    "print(Y_hat)"
   ]
  },
  {
   "cell_type": "code",
   "execution_count": 122,
   "id": "6e4cb9c9-a818-4883-a946-4f6c919f6692",
   "metadata": {},
   "outputs": [],
   "source": [
    "Y_hat_test = softmax(Z)\n",
    "y_pred = np.argmax(Y_hat_test, axis=1)\n"
   ]
  },
  {
   "cell_type": "code",
   "execution_count": 125,
   "id": "0344d299-9e11-425b-9e04-abc8b0e80e4a",
   "metadata": {},
   "outputs": [
    {
     "name": "stdout",
     "output_type": "stream",
     "text": [
      "0 : Hufflepuff : 3\n",
      "1 : Ravenclaw : 0\n",
      "2 : Gryffindor : 2\n",
      "3 : Hufflepuff : 3\n",
      "4 : Hufflepuff : 3\n",
      "5 : Slytherin : 1\n",
      "6 : Ravenclaw : 0\n",
      "7 : Hufflepuff : 3\n",
      "8 : Ravenclaw : 0\n",
      "9 : Hufflepuff : 3\n"
     ]
    }
   ],
   "source": [
    "houses = weights.drop(columns='Unnamed: 0')\n",
    "houses = houses.columns\n",
    "\n",
    "index = 0\n",
    "for i in (y_pred):\n",
    "    print(index,':',houses[i], ':', i)\n",
    "    index += 1\n",
    "    if index == 10:\n",
    "        break"
   ]
  },
  {
   "cell_type": "code",
   "execution_count": null,
   "id": "816444df-f867-4f96-8044-00a8ea4c6c76",
   "metadata": {},
   "outputs": [],
   "source": []
  },
  {
   "cell_type": "code",
   "execution_count": null,
   "id": "4a2487f5-2bbf-42ae-9b36-c44cf3fb843d",
   "metadata": {},
   "outputs": [],
   "source": []
  }
 ],
 "metadata": {
  "kernelspec": {
   "display_name": "Python 3 (ipykernel)",
   "language": "python",
   "name": "python3"
  },
  "language_info": {
   "codemirror_mode": {
    "name": "ipython",
    "version": 3
   },
   "file_extension": ".py",
   "mimetype": "text/x-python",
   "name": "python",
   "nbconvert_exporter": "python",
   "pygments_lexer": "ipython3",
   "version": "3.10.12"
  }
 },
 "nbformat": 4,
 "nbformat_minor": 5
}

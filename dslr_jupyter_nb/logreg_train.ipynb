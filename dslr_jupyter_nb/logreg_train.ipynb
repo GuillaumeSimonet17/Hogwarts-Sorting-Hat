{
 "cells": [
  {
   "cell_type": "code",
   "execution_count": 3,
   "id": "c766f1e3-55c5-4942-8f14-5d480d879120",
   "metadata": {
    "ExecuteTime": {
     "end_time": "2024-08-17T13:11:20.166420Z",
     "start_time": "2024-08-17T13:11:20.160353Z"
    }
   },
   "outputs": [],
   "source": [
    "import sys\n",
    "import statistic_lib as st\n",
    "import numpy as np\n",
    "import pandas as pd\n",
    "import csv"
   ]
  },
  {
   "cell_type": "code",
   "execution_count": 4,
   "id": "c020844f-ca37-4a6d-a452-7ae1a44c2cb1",
   "metadata": {
    "ExecuteTime": {
     "end_time": "2024-08-17T13:11:20.678063Z",
     "start_time": "2024-08-17T13:11:20.653376Z"
    }
   },
   "outputs": [],
   "source": [
    "df = pd.read_csv('../datasets/dataset_train.csv')\n",
    "\n",
    "df.dropna(inplace=True)\n",
    "\n",
    "df_numeric = df.select_dtypes(include=['number']).drop(columns=['Index', 'Care of Magical Creatures', 'Arithmancy', 'Astronomy'])"
   ]
  },
  {
   "cell_type": "code",
   "execution_count": 5,
   "id": "0f97a29a-09d8-4031-8634-2704427231e8",
   "metadata": {
    "ExecuteTime": {
     "end_time": "2024-08-17T13:30:27.408402Z",
     "start_time": "2024-08-17T13:30:27.400518Z"
    }
   },
   "outputs": [],
   "source": [
    "nb_exemples = len(df_numeric)\n",
    "\n",
    "df_houses = df['Hogwarts House']\n",
    "houses_list = df_houses.unique().tolist()\n",
    "nb_houses = len(houses_list)"
   ]
  },
  {
   "cell_type": "code",
   "execution_count": 6,
   "id": "d07a083b-3c38-4ae3-baf2-0d1c7f192bc6",
   "metadata": {
    "ExecuteTime": {
     "end_time": "2024-08-17T13:30:27.528588Z",
     "start_time": "2024-08-17T13:30:27.524408Z"
    }
   },
   "outputs": [],
   "source": [
    "Y = np.zeros((nb_exemples, nb_houses))\n",
    "\n",
    "classe_to_index = {classe: index for index, classe in enumerate(houses_list)}\n",
    "\n",
    "for i, house in enumerate(df_houses):\n",
    "    Y[i, classe_to_index[house]] = 1"
   ]
  },
  {
   "cell_type": "code",
   "execution_count": 7,
   "id": "1266ef52-ce9f-4b71-bf36-51243289f02a",
   "metadata": {
    "ExecuteTime": {
     "end_time": "2024-08-17T13:33:30.150750Z",
     "start_time": "2024-08-17T13:33:30.128768Z"
    }
   },
   "outputs": [
    {
     "data": {
      "text/html": [
       "<div>\n",
       "<style scoped>\n",
       "    .dataframe tbody tr th:only-of-type {\n",
       "        vertical-align: middle;\n",
       "    }\n",
       "\n",
       "    .dataframe tbody tr th {\n",
       "        vertical-align: top;\n",
       "    }\n",
       "\n",
       "    .dataframe thead th {\n",
       "        text-align: right;\n",
       "    }\n",
       "</style>\n",
       "<table border=\"1\" class=\"dataframe\">\n",
       "  <thead>\n",
       "    <tr style=\"text-align: right;\">\n",
       "      <th></th>\n",
       "      <th>Ravenclaw</th>\n",
       "      <th>Slytherin</th>\n",
       "      <th>Gryffindor</th>\n",
       "      <th>Hufflepuff</th>\n",
       "    </tr>\n",
       "  </thead>\n",
       "  <tbody>\n",
       "    <tr>\n",
       "      <th>Herbology</th>\n",
       "      <td>0.0</td>\n",
       "      <td>0.0</td>\n",
       "      <td>0.0</td>\n",
       "      <td>0.0</td>\n",
       "    </tr>\n",
       "    <tr>\n",
       "      <th>Defense Against the Dark Arts</th>\n",
       "      <td>0.0</td>\n",
       "      <td>0.0</td>\n",
       "      <td>0.0</td>\n",
       "      <td>0.0</td>\n",
       "    </tr>\n",
       "    <tr>\n",
       "      <th>Divination</th>\n",
       "      <td>0.0</td>\n",
       "      <td>0.0</td>\n",
       "      <td>0.0</td>\n",
       "      <td>0.0</td>\n",
       "    </tr>\n",
       "    <tr>\n",
       "      <th>Muggle Studies</th>\n",
       "      <td>0.0</td>\n",
       "      <td>0.0</td>\n",
       "      <td>0.0</td>\n",
       "      <td>0.0</td>\n",
       "    </tr>\n",
       "    <tr>\n",
       "      <th>Ancient Runes</th>\n",
       "      <td>0.0</td>\n",
       "      <td>0.0</td>\n",
       "      <td>0.0</td>\n",
       "      <td>0.0</td>\n",
       "    </tr>\n",
       "    <tr>\n",
       "      <th>History of Magic</th>\n",
       "      <td>0.0</td>\n",
       "      <td>0.0</td>\n",
       "      <td>0.0</td>\n",
       "      <td>0.0</td>\n",
       "    </tr>\n",
       "    <tr>\n",
       "      <th>Transfiguration</th>\n",
       "      <td>0.0</td>\n",
       "      <td>0.0</td>\n",
       "      <td>0.0</td>\n",
       "      <td>0.0</td>\n",
       "    </tr>\n",
       "    <tr>\n",
       "      <th>Potions</th>\n",
       "      <td>0.0</td>\n",
       "      <td>0.0</td>\n",
       "      <td>0.0</td>\n",
       "      <td>0.0</td>\n",
       "    </tr>\n",
       "    <tr>\n",
       "      <th>Charms</th>\n",
       "      <td>0.0</td>\n",
       "      <td>0.0</td>\n",
       "      <td>0.0</td>\n",
       "      <td>0.0</td>\n",
       "    </tr>\n",
       "    <tr>\n",
       "      <th>Flying</th>\n",
       "      <td>0.0</td>\n",
       "      <td>0.0</td>\n",
       "      <td>0.0</td>\n",
       "      <td>0.0</td>\n",
       "    </tr>\n",
       "    <tr>\n",
       "      <th>Bias</th>\n",
       "      <td>0.0</td>\n",
       "      <td>0.0</td>\n",
       "      <td>0.0</td>\n",
       "      <td>0.0</td>\n",
       "    </tr>\n",
       "  </tbody>\n",
       "</table>\n",
       "</div>"
      ],
      "text/plain": [
       "                               Ravenclaw  Slytherin  Gryffindor  Hufflepuff\n",
       "Herbology                            0.0        0.0         0.0         0.0\n",
       "Defense Against the Dark Arts        0.0        0.0         0.0         0.0\n",
       "Divination                           0.0        0.0         0.0         0.0\n",
       "Muggle Studies                       0.0        0.0         0.0         0.0\n",
       "Ancient Runes                        0.0        0.0         0.0         0.0\n",
       "History of Magic                     0.0        0.0         0.0         0.0\n",
       "Transfiguration                      0.0        0.0         0.0         0.0\n",
       "Potions                              0.0        0.0         0.0         0.0\n",
       "Charms                               0.0        0.0         0.0         0.0\n",
       "Flying                               0.0        0.0         0.0         0.0\n",
       "Bias                                 0.0        0.0         0.0         0.0"
      ]
     },
     "execution_count": 7,
     "metadata": {},
     "output_type": "execute_result"
    }
   ],
   "source": [
    "features = df_numeric.columns.tolist()\n",
    "nb_features = len(features)\n",
    "features.append(('Bias'))\n",
    "\n",
    "W = pd.DataFrame(columns=houses_list, index=features)\n",
    "W = W.infer_objects(copy=False).fillna(0)\n",
    "W"
   ]
  },
  {
   "cell_type": "code",
   "execution_count": 8,
   "id": "a5a76427-f695-4970-adb0-da3e87262959",
   "metadata": {
    "ExecuteTime": {
     "end_time": "2024-08-17T13:34:46.638258Z",
     "start_time": "2024-08-17T13:34:46.625084Z"
    }
   },
   "outputs": [],
   "source": [
    "X = np.array((df_numeric.apply(lambda x: (x - x.mean()) / x.std())))"
   ]
  },
  {
   "cell_type": "code",
   "execution_count": 9,
   "id": "9cfb8c28-e3fc-40b5-a818-2183cf9c8953",
   "metadata": {
    "ExecuteTime": {
     "end_time": "2024-08-17T13:34:52.211624Z",
     "start_time": "2024-08-17T13:34:52.203793Z"
    }
   },
   "outputs": [
    {
     "data": {
      "text/plain": [
       "array([[ 0.86877347,  1.02575399,  0.3668627 , ...,  1.19808724,\n",
       "        -0.51147256,  1.        ],\n",
       "       [-1.37405992,  1.14894221, -2.14688607, ..., -1.00774958,\n",
       "        -1.39695141,  1.        ],\n",
       "       [ 1.25127087,  0.79192947,  0.71179165, ...,  1.81824066,\n",
       "         0.07478891,  1.        ],\n",
       "       ...,\n",
       "       [-0.84101312, -0.95507478,  0.69354787, ..., -0.94547031,\n",
       "         1.79388227,  1.        ],\n",
       "       [ 0.43142147, -0.78165433,  0.85725534, ..., -0.32592323,\n",
       "        -1.02213689,  1.        ],\n",
       "       [ 0.81016221, -1.23320925,  0.82198404, ..., -0.07905294,\n",
       "        -0.79667531,  1.        ]])"
      ]
     },
     "execution_count": 9,
     "metadata": {},
     "output_type": "execute_result"
    }
   ],
   "source": [
    "ones = np.ones(X.shape[0])\n",
    "X = np.column_stack((X,ones))\n",
    "X"
   ]
  },
  {
   "cell_type": "markdown",
   "id": "0b9af7f8-820d-4768-aa2f-87ab0d81292f",
   "metadata": {},
   "source": [
    "### Fonction Sigmoid"
   ]
  },
  {
   "cell_type": "code",
   "execution_count": 10,
   "id": "5c32ea9c-91d9-4d2d-add7-e93b81bd8b55",
   "metadata": {
    "ExecuteTime": {
     "end_time": "2024-08-17T13:35:05.015432Z",
     "start_time": "2024-08-17T13:35:05.003486Z"
    }
   },
   "outputs": [],
   "source": [
    "def sigmoid(Z):\n",
    "    return 1 / (1 + np.exp(-Z))"
   ]
  },
  {
   "cell_type": "markdown",
   "id": "5c5d3217-647c-4d06-af29-e260588faad6",
   "metadata": {},
   "source": [
    "### Descente de gradient"
   ]
  },
  {
   "cell_type": "code",
   "execution_count": 23,
   "id": "204d6d6d-ee5e-4d8c-9d02-106f2ed916e7",
   "metadata": {
    "ExecuteTime": {
     "end_time": "2024-08-17T15:14:12.034582Z",
     "start_time": "2024-08-17T15:14:12.031538Z"
    }
   },
   "outputs": [],
   "source": [
    "def gradient_descent(df_houses, house_name, W, W_house, X, Y, learning_rate=0.01, num_iterations=50000):\n",
    "    current_house = np.where(df_houses == house_name, 1, 0)\n",
    "\n",
    "    for i in range(num_iterations):\n",
    "        Z = np.dot(X, W_house)\n",
    "        Y_hat = sigmoid(Z)\n",
    "        # print(len(Y_hat)) 1251 colonnes (1251 eleves), chaque scalaire represente la proba que l'eleve fasse partie de telle ou telle classe), \n",
    "        # et on loop en fonction du nb_iter et on fait ca pour chaque classe\n",
    "        # au debut on a que des 0.5 car x = 0 donc aucune 'classe' n'est privilegiee\n",
    "        gradient = np.dot(X.T, (Y_hat - current_house)) / current_house.shape[0]\n",
    "        W_house = W_house - learning_rate * gradient\n",
    "\n",
    "    print(f'gradient descent of {house_name} finish')\n",
    "    return W_house"
   ]
  },
  {
   "cell_type": "code",
   "execution_count": 24,
   "id": "33eb188f-745e-4768-af13-45d2c64feb7e",
   "metadata": {
    "ExecuteTime": {
     "end_time": "2024-08-17T15:14:17.478163Z",
     "start_time": "2024-08-17T15:14:12.144077Z"
    }
   },
   "outputs": [
    {
     "name": "stdout",
     "output_type": "stream",
     "text": [
      "gradient descent of Ravenclaw finish\n",
      "gradient descent of Slytherin finish\n",
      "gradient descent of Gryffindor finish\n",
      "gradient descent of Hufflepuff finish\n"
     ]
    }
   ],
   "source": [
    "for house in houses_list:\n",
    "    W[house] = gradient_descent(df_houses, house, W, W[house], X, Y, learning_rate=0.01, num_iterations=10000)"
   ]
  },
  {
   "cell_type": "markdown",
   "id": "e8a914fc-732b-4d26-a53b-88a8f23a9576",
   "metadata": {},
   "source": [
    "L’algorithme One-Versus-All (One vs All) permet d’utiliser Logistic Regression pour la classification multi-classes. \n",
    "Le principe est simple : Il consiste à découper le problème de classification multi-classes en une multitude de problèmes de classification binaires."
   ]
  },
  {
   "cell_type": "code",
   "execution_count": 82,
   "id": "39aa0aa9-6c56-422d-b2cd-a5a10096ad9f",
   "metadata": {
    "ExecuteTime": {
     "end_time": "2024-08-17T15:11:04.966499Z",
     "start_time": "2024-08-17T15:11:04.962728Z"
    }
   },
   "outputs": [],
   "source": [
    "with open('result_train_weights.csv', 'w', newline='') as file:\n",
    "    W.to_csv(file)"
   ]
  },
  {
   "cell_type": "code",
   "execution_count": null,
   "id": "ae50586b-459f-47e0-a2cf-e9559e19d2e8",
   "metadata": {},
   "outputs": [],
   "source": []
  },
  {
   "cell_type": "code",
   "execution_count": null,
   "id": "ed7c1a39-1144-4aa2-8b0d-566f35485ba3",
   "metadata": {},
   "outputs": [],
   "source": []
  }
 ],
 "metadata": {
  "kernelspec": {
   "display_name": "Python 3 (ipykernel)",
   "language": "python",
   "name": "python3"
  },
  "language_info": {
   "codemirror_mode": {
    "name": "ipython",
    "version": 3
   },
   "file_extension": ".py",
   "mimetype": "text/x-python",
   "name": "python",
   "nbconvert_exporter": "python",
   "pygments_lexer": "ipython3",
   "version": "3.10.12"
  }
 },
 "nbformat": 4,
 "nbformat_minor": 5
}

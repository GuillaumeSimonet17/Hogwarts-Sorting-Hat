{
 "cells": [
  {
   "cell_type": "code",
   "execution_count": 26,
   "id": "c766f1e3-55c5-4942-8f14-5d480d879120",
   "metadata": {},
   "outputs": [],
   "source": [
    "import sys\n",
    "import statistic_lib as st\n",
    "import numpy as np\n",
    "import pandas as pd\n",
    "import csv"
   ]
  },
  {
   "cell_type": "code",
   "execution_count": 27,
   "id": "c020844f-ca37-4a6d-a452-7ae1a44c2cb1",
   "metadata": {},
   "outputs": [],
   "source": [
    "df = pd.read_csv('../datasets/dataset_train.csv')\n",
    "\n",
    "df.dropna(inplace=True)\n",
    "\n",
    "df_numeric = df.select_dtypes(include=['number']).drop(columns=['Index', 'Care of Magical Creatures', 'Arithmancy', 'Astronomy'])"
   ]
  },
  {
   "cell_type": "code",
   "execution_count": 32,
   "id": "0f97a29a-09d8-4031-8634-2704427231e8",
   "metadata": {},
   "outputs": [],
   "source": [
    "nb_exemples = len(df_numeric)\n",
    "\n",
    "features = df_numeric.columns.tolist()\n",
    "nb_features = len(features)\n",
    "\n",
    "classes = df['Hogwarts House'].unique().tolist()\n",
    "nb_classes = len(classes)"
   ]
  },
  {
   "cell_type": "code",
   "execution_count": 33,
   "id": "d07a083b-3c38-4ae3-baf2-0d1c7f192bc6",
   "metadata": {},
   "outputs": [],
   "source": [
    "Y = np.zeros((nb_exemples, nb_classes))\n",
    "\n",
    "classe_to_index = {classe: index for index, classe in enumerate(classes)}\n",
    "\n",
    "for i, classe in enumerate(df['Hogwarts House']):\n",
    "    Y[i, classe_to_index[classe]] = 1"
   ]
  },
  {
   "cell_type": "code",
   "execution_count": 34,
   "id": "1266ef52-ce9f-4b71-bf36-51243289f02a",
   "metadata": {},
   "outputs": [
    {
     "data": {
      "text/html": [
       "<div>\n",
       "<style scoped>\n",
       "    .dataframe tbody tr th:only-of-type {\n",
       "        vertical-align: middle;\n",
       "    }\n",
       "\n",
       "    .dataframe tbody tr th {\n",
       "        vertical-align: top;\n",
       "    }\n",
       "\n",
       "    .dataframe thead th {\n",
       "        text-align: right;\n",
       "    }\n",
       "</style>\n",
       "<table border=\"1\" class=\"dataframe\">\n",
       "  <thead>\n",
       "    <tr style=\"text-align: right;\">\n",
       "      <th></th>\n",
       "      <th>Ravenclaw</th>\n",
       "      <th>Slytherin</th>\n",
       "      <th>Gryffindor</th>\n",
       "      <th>Hufflepuff</th>\n",
       "    </tr>\n",
       "  </thead>\n",
       "  <tbody>\n",
       "    <tr>\n",
       "      <th>Herbology</th>\n",
       "      <td>0.0</td>\n",
       "      <td>0.0</td>\n",
       "      <td>0.0</td>\n",
       "      <td>0.0</td>\n",
       "    </tr>\n",
       "    <tr>\n",
       "      <th>Defense Against the Dark Arts</th>\n",
       "      <td>0.0</td>\n",
       "      <td>0.0</td>\n",
       "      <td>0.0</td>\n",
       "      <td>0.0</td>\n",
       "    </tr>\n",
       "    <tr>\n",
       "      <th>Divination</th>\n",
       "      <td>0.0</td>\n",
       "      <td>0.0</td>\n",
       "      <td>0.0</td>\n",
       "      <td>0.0</td>\n",
       "    </tr>\n",
       "    <tr>\n",
       "      <th>Muggle Studies</th>\n",
       "      <td>0.0</td>\n",
       "      <td>0.0</td>\n",
       "      <td>0.0</td>\n",
       "      <td>0.0</td>\n",
       "    </tr>\n",
       "    <tr>\n",
       "      <th>Ancient Runes</th>\n",
       "      <td>0.0</td>\n",
       "      <td>0.0</td>\n",
       "      <td>0.0</td>\n",
       "      <td>0.0</td>\n",
       "    </tr>\n",
       "    <tr>\n",
       "      <th>History of Magic</th>\n",
       "      <td>0.0</td>\n",
       "      <td>0.0</td>\n",
       "      <td>0.0</td>\n",
       "      <td>0.0</td>\n",
       "    </tr>\n",
       "    <tr>\n",
       "      <th>Transfiguration</th>\n",
       "      <td>0.0</td>\n",
       "      <td>0.0</td>\n",
       "      <td>0.0</td>\n",
       "      <td>0.0</td>\n",
       "    </tr>\n",
       "    <tr>\n",
       "      <th>Potions</th>\n",
       "      <td>0.0</td>\n",
       "      <td>0.0</td>\n",
       "      <td>0.0</td>\n",
       "      <td>0.0</td>\n",
       "    </tr>\n",
       "    <tr>\n",
       "      <th>Charms</th>\n",
       "      <td>0.0</td>\n",
       "      <td>0.0</td>\n",
       "      <td>0.0</td>\n",
       "      <td>0.0</td>\n",
       "    </tr>\n",
       "    <tr>\n",
       "      <th>Flying</th>\n",
       "      <td>0.0</td>\n",
       "      <td>0.0</td>\n",
       "      <td>0.0</td>\n",
       "      <td>0.0</td>\n",
       "    </tr>\n",
       "    <tr>\n",
       "      <th>Bias</th>\n",
       "      <td>0.0</td>\n",
       "      <td>0.0</td>\n",
       "      <td>0.0</td>\n",
       "      <td>0.0</td>\n",
       "    </tr>\n",
       "  </tbody>\n",
       "</table>\n",
       "</div>"
      ],
      "text/plain": [
       "                               Ravenclaw  Slytherin  Gryffindor  Hufflepuff\n",
       "Herbology                            0.0        0.0         0.0         0.0\n",
       "Defense Against the Dark Arts        0.0        0.0         0.0         0.0\n",
       "Divination                           0.0        0.0         0.0         0.0\n",
       "Muggle Studies                       0.0        0.0         0.0         0.0\n",
       "Ancient Runes                        0.0        0.0         0.0         0.0\n",
       "History of Magic                     0.0        0.0         0.0         0.0\n",
       "Transfiguration                      0.0        0.0         0.0         0.0\n",
       "Potions                              0.0        0.0         0.0         0.0\n",
       "Charms                               0.0        0.0         0.0         0.0\n",
       "Flying                               0.0        0.0         0.0         0.0\n",
       "Bias                                 0.0        0.0         0.0         0.0"
      ]
     },
     "execution_count": 34,
     "metadata": {},
     "output_type": "execute_result"
    }
   ],
   "source": [
    "features.append(('Bias'))\n",
    "W = pd.DataFrame(columns=classes, index=features)\n",
    "W = W.infer_objects(copy=False).fillna(0)\n",
    "W"
   ]
  },
  {
   "cell_type": "code",
   "execution_count": 6,
   "id": "a5a76427-f695-4970-adb0-da3e87262959",
   "metadata": {},
   "outputs": [],
   "source": [
    "X = np.array((df_numeric.apply(lambda x: (x - x.mean()) / x.std())))"
   ]
  },
  {
   "cell_type": "code",
   "execution_count": 7,
   "id": "9cfb8c28-e3fc-40b5-a818-2183cf9c8953",
   "metadata": {},
   "outputs": [],
   "source": [
    "ones = np.ones(X.shape[0])\n",
    "X = np.column_stack((X,ones))"
   ]
  },
  {
   "cell_type": "markdown",
   "id": "0b9af7f8-820d-4768-aa2f-87ab0d81292f",
   "metadata": {},
   "source": [
    "### Fonction Softmax"
   ]
  },
  {
   "cell_type": "code",
   "execution_count": 8,
   "id": "5c32ea9c-91d9-4d2d-add7-e93b81bd8b55",
   "metadata": {},
   "outputs": [],
   "source": [
    "def softmax(Z):\n",
    "    exp_z = np.exp(Z - np.max(Z, axis=1, keepdims=True))\n",
    "    return exp_z / np.sum(exp_z, axis=1, keepdims=True)"
   ]
  },
  {
   "cell_type": "markdown",
   "id": "3dbcac7a-0dcf-4959-ad8d-0a2bd1807196",
   "metadata": {},
   "source": [
    "On soustrait le maximum de chaque ligne de Z avant d'appliquer l'exponentielle.\n",
    "Cela aide à stabiliser les calculs numériques et à éviter les débordements.\n",
    "<b>On divise chaque élément exponentié de Z par la somme des exponentielles de sa ligne.</b> Cela transforme chaque ligne de Z en une distribution de probabilité (les éléments de chaque ligne s'additionnent à 1)."
   ]
  },
  {
   "cell_type": "markdown",
   "id": "97159325-bb24-49be-b675-7f4545ba8e71",
   "metadata": {},
   "source": [
    "### Fonction Coût : entropie croisée"
   ]
  },
  {
   "cell_type": "code",
   "execution_count": 9,
   "id": "f2015ee0-563b-4ad3-b6ad-3b928d433fd3",
   "metadata": {},
   "outputs": [],
   "source": [
    "def cross_entropy(Y, Y_hat):\n",
    "    return -np.sum(Y * np.log(Y_hat + 1e-9), axis=1)\n",
    "    # vecteur contenant toutes les sommes des probabilités d'un exemples (d'une ligne)\n",
    "\n",
    "def cost_function(Y, Y_hat):\n",
    "    total_cost = np.sum(cross_entropy(Y, Y_hat))\n",
    "    # la somme de toutes les entropies croisées de chaque exemples\n",
    "    return total_cost / nb_exemples"
   ]
  },
  {
   "cell_type": "markdown",
   "id": "5c5d3217-647c-4d06-af29-e260588faad6",
   "metadata": {},
   "source": [
    "### Descente de gradient"
   ]
  },
  {
   "cell_type": "code",
   "execution_count": 10,
   "id": "a7fda4fc-eb95-446e-a397-c45069591fae",
   "metadata": {},
   "outputs": [],
   "source": [
    "def compute_gradients(X, Y, Y_hat):\n",
    "    dW = np.dot(X.T, (Y_hat - Y)) / nb_exemples\n",
    "    db = np.sum(Y_hat - Y, axis=0, keepdims=True) / nb_exemples\n",
    "    return dW, db"
   ]
  },
  {
   "cell_type": "code",
   "execution_count": 11,
   "id": "204d6d6d-ee5e-4d8c-9d02-106f2ed916e7",
   "metadata": {},
   "outputs": [],
   "source": [
    "def gradient_descent(W, X, Y, learning_rate=0.01, num_iterations=50000):\n",
    "\n",
    "    for i in range(num_iterations):\n",
    "        Z = np.dot(X, W)\n",
    "\n",
    "        Y_hat = softmax(Z)\n",
    "        \n",
    "        cost = cost_function(Y, Y_hat)\n",
    "        \n",
    "        dW, db = compute_gradients(X, Y, Y_hat)\n",
    "        \n",
    "        W -= learning_rate * dW\n",
    "\n",
    "        if i % 1000 == 0:\n",
    "            print(i)\n",
    "            \n",
    "    print('descente de gradient finit')\n",
    "    return W, Y_hat, cost"
   ]
  },
  {
   "cell_type": "code",
   "execution_count": 12,
   "id": "33eb188f-745e-4768-af13-45d2c64feb7e",
   "metadata": {},
   "outputs": [
    {
     "name": "stdout",
     "output_type": "stream",
     "text": [
      "0\n",
      "1000\n",
      "2000\n",
      "3000\n",
      "4000\n",
      "5000\n",
      "6000\n",
      "7000\n",
      "8000\n",
      "9000\n",
      "descente de gradient finit\n"
     ]
    }
   ],
   "source": [
    "W, Y_hat, cost = gradient_descent(W, X, Y, learning_rate=0.01, num_iterations=10000)"
   ]
  },
  {
   "cell_type": "code",
   "execution_count": 13,
   "id": "39aa0aa9-6c56-422d-b2cd-a5a10096ad9f",
   "metadata": {},
   "outputs": [],
   "source": [
    "with open('result_train_weights.csv', 'w', newline='') as file:\n",
    "    W.to_csv(file)"
   ]
  },
  {
   "cell_type": "code",
   "execution_count": 14,
   "id": "0dbc64a0-0344-42dc-b0e1-1f395353f489",
   "metadata": {},
   "outputs": [
    {
     "ename": "ModuleNotFoundError",
     "evalue": "No module named 'sklearn'",
     "output_type": "error",
     "traceback": [
      "\u001b[0;31m---------------------------------------------------------------------------\u001b[0m",
      "\u001b[0;31mModuleNotFoundError\u001b[0m                       Traceback (most recent call last)",
      "Cell \u001b[0;32mIn[14], line 1\u001b[0m\n\u001b[0;32m----> 1\u001b[0m \u001b[38;5;28;01mfrom\u001b[39;00m \u001b[38;5;21;01msklearn\u001b[39;00m\u001b[38;5;21;01m.\u001b[39;00m\u001b[38;5;21;01mmetrics\u001b[39;00m \u001b[38;5;28;01mimport\u001b[39;00m accuracy_score\n\u001b[1;32m      3\u001b[0m Y_hat_rounded \u001b[38;5;241m=\u001b[39m np\u001b[38;5;241m.\u001b[39mround(Y_hat)\n\u001b[1;32m      4\u001b[0m accuracy_score(Y, Y_hat_rounded)\n",
      "\u001b[0;31mModuleNotFoundError\u001b[0m: No module named 'sklearn'"
     ]
    }
   ],
   "source": [
    "# from sklearn.metrics import accuracy_score\n",
    "\n",
    "# Y_hat_rounded = np.round(Y_hat)\n",
    "# accuracy_score(Y, Y_hat_rounded)"
   ]
  },
  {
   "cell_type": "code",
   "execution_count": null,
   "id": "7899b08b-90f8-4a0a-a50b-af455ae88479",
   "metadata": {},
   "outputs": [],
   "source": []
  },
  {
   "cell_type": "code",
   "execution_count": null,
   "id": "ae50586b-459f-47e0-a2cf-e9559e19d2e8",
   "metadata": {},
   "outputs": [],
   "source": []
  }
 ],
 "metadata": {
  "kernelspec": {
   "display_name": "Python 3 (ipykernel)",
   "language": "python",
   "name": "python3"
  },
  "language_info": {
   "codemirror_mode": {
    "name": "ipython",
    "version": 3
   },
   "file_extension": ".py",
   "mimetype": "text/x-python",
   "name": "python",
   "nbconvert_exporter": "python",
   "pygments_lexer": "ipython3",
   "version": "3.10.12"
  }
 },
 "nbformat": 4,
 "nbformat_minor": 5
}

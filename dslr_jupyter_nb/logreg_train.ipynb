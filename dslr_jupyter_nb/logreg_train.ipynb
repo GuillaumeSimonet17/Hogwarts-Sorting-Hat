{
 "cells": [
  {
   "cell_type": "code",
   "execution_count": 2,
   "id": "c766f1e3-55c5-4942-8f14-5d480d879120",
   "metadata": {},
   "outputs": [],
   "source": [
    "import sys\n",
    "import statistic_lib as st\n",
    "import numpy as np\n",
    "import pandas as pd\n",
    "import matplotlib.pyplot as plt\n",
    "%matplotlib tk"
   ]
  },
  {
   "cell_type": "code",
   "execution_count": 46,
   "id": "d9dd661d-fcf1-4189-a2a3-e477f639577a",
   "metadata": {},
   "outputs": [],
   "source": [
    "def scale(df):\n",
    "    titles = df.columns[1:]\n",
    "    for col in titles:\n",
    "        arr = df[col]\n",
    "        X_std = st.std(arr)\n",
    "        mean_X = st.mean(arr)\n",
    "        if X_std != 0:\n",
    "            scaled_X = (arr - mean_X) / X_std\n",
    "        df[col] = scaled_X\n",
    "    return df"
   ]
  },
  {
   "cell_type": "code",
   "execution_count": 47,
   "id": "c020844f-ca37-4a6d-a452-7ae1a44c2cb1",
   "metadata": {},
   "outputs": [],
   "source": [
    "df = pd.read_csv('../datasets/dataset_train.csv')\n",
    "\n",
    "df = df.dropna()\n",
    "\n",
    "df_numeric = df.select_dtypes(include=['number']).drop(columns=['Index', 'Care of Magical Creatures', 'Potions', 'Arithmancy', 'Astronomy'])"
   ]
  },
  {
   "cell_type": "code",
   "execution_count": 48,
   "id": "0f97a29a-09d8-4031-8634-2704427231e8",
   "metadata": {},
   "outputs": [],
   "source": [
    "nb_exemples = len(df_numeric)\n",
    "nb_features = len(df_numeric.columns)\n",
    "nb_classes = 4"
   ]
  },
  {
   "cell_type": "code",
   "execution_count": 49,
   "id": "d07a083b-3c38-4ae3-baf2-0d1c7f192bc6",
   "metadata": {},
   "outputs": [
    {
     "data": {
      "text/plain": [
       "array([[0., 0., 1., 0.],\n",
       "       [0., 1., 0., 0.],\n",
       "       [0., 0., 1., 0.],\n",
       "       ...,\n",
       "       [1., 0., 0., 0.],\n",
       "       [0., 0., 0., 1.],\n",
       "       [0., 0., 0., 1.]])"
      ]
     },
     "execution_count": 49,
     "metadata": {},
     "output_type": "execute_result"
    }
   ],
   "source": [
    "Y = np.zeros((nb_exemples, nb_classes))\n",
    "\n",
    "houses = ['Gryffindor', 'Slytherin', 'Ravenclaw', 'Hufflepuff']\n",
    "\n",
    "house_to_index = {house: index for index, house in enumerate(houses)}\n",
    "\n",
    "for i, house in enumerate(df['Hogwarts House']):\n",
    "    Y[i, house_to_index[house]] = 1\n",
    "Y"
   ]
  },
  {
   "cell_type": "code",
   "execution_count": 50,
   "id": "a5a76427-f695-4970-adb0-da3e87262959",
   "metadata": {},
   "outputs": [],
   "source": [
    "X = np.array(scale(df_numeric))"
   ]
  },
  {
   "cell_type": "code",
   "execution_count": 51,
   "id": "df97d15d-b665-4b43-b85b-8990251b1aa1",
   "metadata": {},
   "outputs": [
    {
     "data": {
      "text/html": [
       "<div>\n",
       "<style scoped>\n",
       "    .dataframe tbody tr th:only-of-type {\n",
       "        vertical-align: middle;\n",
       "    }\n",
       "\n",
       "    .dataframe tbody tr th {\n",
       "        vertical-align: top;\n",
       "    }\n",
       "\n",
       "    .dataframe thead th {\n",
       "        text-align: right;\n",
       "    }\n",
       "</style>\n",
       "<table border=\"1\" class=\"dataframe\">\n",
       "  <thead>\n",
       "    <tr style=\"text-align: right;\">\n",
       "      <th></th>\n",
       "      <th>Herbology</th>\n",
       "      <th>Defense Against the Dark Arts</th>\n",
       "      <th>Divination</th>\n",
       "      <th>Muggle Studies</th>\n",
       "      <th>Ancient Runes</th>\n",
       "      <th>History of Magic</th>\n",
       "      <th>Transfiguration</th>\n",
       "      <th>Charms</th>\n",
       "      <th>Flying</th>\n",
       "    </tr>\n",
       "  </thead>\n",
       "  <tbody>\n",
       "    <tr>\n",
       "      <th>0</th>\n",
       "      <td>5.727180</td>\n",
       "      <td>1.026164</td>\n",
       "      <td>0.367009</td>\n",
       "      <td>1.020932</td>\n",
       "      <td>0.339678</td>\n",
       "      <td>0.505583</td>\n",
       "      <td>0.225756</td>\n",
       "      <td>1.198566</td>\n",
       "      <td>-0.511677</td>\n",
       "    </tr>\n",
       "    <tr>\n",
       "      <th>1</th>\n",
       "      <td>-5.987446</td>\n",
       "      <td>1.149402</td>\n",
       "      <td>-2.147745</td>\n",
       "      <td>-0.545465</td>\n",
       "      <td>-1.204590</td>\n",
       "      <td>0.253318</td>\n",
       "      <td>0.661470</td>\n",
       "      <td>-1.008153</td>\n",
       "      <td>-1.397510</td>\n",
       "    </tr>\n",
       "    <tr>\n",
       "      <th>2</th>\n",
       "      <td>7.725017</td>\n",
       "      <td>0.792246</td>\n",
       "      <td>0.712076</td>\n",
       "      <td>1.831295</td>\n",
       "      <td>0.996868</td>\n",
       "      <td>0.129509</td>\n",
       "      <td>1.324351</td>\n",
       "      <td>1.818968</td>\n",
       "      <td>0.074819</td>\n",
       "    </tr>\n",
       "    <tr>\n",
       "      <th>3</th>\n",
       "      <td>-6.497214</td>\n",
       "      <td>-1.250661</td>\n",
       "      <td>0.197639</td>\n",
       "      <td>-0.647902</td>\n",
       "      <td>0.259972</td>\n",
       "      <td>-1.748129</td>\n",
       "      <td>-2.489951</td>\n",
       "      <td>-1.538773</td>\n",
       "      <td>1.816807</td>\n",
       "    </tr>\n",
       "    <tr>\n",
       "      <th>5</th>\n",
       "      <td>-4.289197</td>\n",
       "      <td>1.267747</td>\n",
       "      <td>-2.386225</td>\n",
       "      <td>-0.449871</td>\n",
       "      <td>-0.937954</td>\n",
       "      <td>0.539078</td>\n",
       "      <td>0.522737</td>\n",
       "      <td>-0.525757</td>\n",
       "      <td>-0.591500</td>\n",
       "    </tr>\n",
       "    <tr>\n",
       "      <th>...</th>\n",
       "      <td>...</td>\n",
       "      <td>...</td>\n",
       "      <td>...</td>\n",
       "      <td>...</td>\n",
       "      <td>...</td>\n",
       "      <td>...</td>\n",
       "      <td>...</td>\n",
       "      <td>...</td>\n",
       "      <td>...</td>\n",
       "    </tr>\n",
       "    <tr>\n",
       "      <th>1595</th>\n",
       "      <td>-4.541837</td>\n",
       "      <td>-0.591091</td>\n",
       "      <td>0.605490</td>\n",
       "      <td>-0.565874</td>\n",
       "      <td>1.143443</td>\n",
       "      <td>-1.842869</td>\n",
       "      <td>-1.493064</td>\n",
       "      <td>-0.804413</td>\n",
       "      <td>1.665245</td>\n",
       "    </tr>\n",
       "    <tr>\n",
       "      <th>1596</th>\n",
       "      <td>6.061064</td>\n",
       "      <td>-0.616538</td>\n",
       "      <td>-0.354516</td>\n",
       "      <td>-0.867109</td>\n",
       "      <td>-0.472718</td>\n",
       "      <td>-0.166207</td>\n",
       "      <td>0.597847</td>\n",
       "      <td>-0.352965</td>\n",
       "      <td>0.221980</td>\n",
       "    </tr>\n",
       "    <tr>\n",
       "      <th>1597</th>\n",
       "      <td>-3.203269</td>\n",
       "      <td>-0.955457</td>\n",
       "      <td>0.693825</td>\n",
       "      <td>-0.334673</td>\n",
       "      <td>1.302735</td>\n",
       "      <td>-2.011781</td>\n",
       "      <td>-1.728549</td>\n",
       "      <td>-0.945848</td>\n",
       "      <td>1.794600</td>\n",
       "    </tr>\n",
       "    <tr>\n",
       "      <th>1598</th>\n",
       "      <td>3.442831</td>\n",
       "      <td>-0.781967</td>\n",
       "      <td>0.857598</td>\n",
       "      <td>-1.255874</td>\n",
       "      <td>-1.057548</td>\n",
       "      <td>0.187314</td>\n",
       "      <td>1.321186</td>\n",
       "      <td>-0.326054</td>\n",
       "      <td>-1.022546</td>\n",
       "    </tr>\n",
       "    <tr>\n",
       "      <th>1599</th>\n",
       "      <td>5.421046</td>\n",
       "      <td>-1.233702</td>\n",
       "      <td>0.822313</td>\n",
       "      <td>-0.023318</td>\n",
       "      <td>-1.466948</td>\n",
       "      <td>0.949416</td>\n",
       "      <td>0.115208</td>\n",
       "      <td>-0.079085</td>\n",
       "      <td>-0.796994</td>\n",
       "    </tr>\n",
       "  </tbody>\n",
       "</table>\n",
       "<p>1251 rows × 9 columns</p>\n",
       "</div>"
      ],
      "text/plain": [
       "      Herbology  Defense Against the Dark Arts  Divination  Muggle Studies  \\\n",
       "0      5.727180                       1.026164    0.367009        1.020932   \n",
       "1     -5.987446                       1.149402   -2.147745       -0.545465   \n",
       "2      7.725017                       0.792246    0.712076        1.831295   \n",
       "3     -6.497214                      -1.250661    0.197639       -0.647902   \n",
       "5     -4.289197                       1.267747   -2.386225       -0.449871   \n",
       "...         ...                            ...         ...             ...   \n",
       "1595  -4.541837                      -0.591091    0.605490       -0.565874   \n",
       "1596   6.061064                      -0.616538   -0.354516       -0.867109   \n",
       "1597  -3.203269                      -0.955457    0.693825       -0.334673   \n",
       "1598   3.442831                      -0.781967    0.857598       -1.255874   \n",
       "1599   5.421046                      -1.233702    0.822313       -0.023318   \n",
       "\n",
       "      Ancient Runes  History of Magic  Transfiguration    Charms    Flying  \n",
       "0          0.339678          0.505583         0.225756  1.198566 -0.511677  \n",
       "1         -1.204590          0.253318         0.661470 -1.008153 -1.397510  \n",
       "2          0.996868          0.129509         1.324351  1.818968  0.074819  \n",
       "3          0.259972         -1.748129        -2.489951 -1.538773  1.816807  \n",
       "5         -0.937954          0.539078         0.522737 -0.525757 -0.591500  \n",
       "...             ...               ...              ...       ...       ...  \n",
       "1595       1.143443         -1.842869        -1.493064 -0.804413  1.665245  \n",
       "1596      -0.472718         -0.166207         0.597847 -0.352965  0.221980  \n",
       "1597       1.302735         -2.011781        -1.728549 -0.945848  1.794600  \n",
       "1598      -1.057548          0.187314         1.321186 -0.326054 -1.022546  \n",
       "1599      -1.466948          0.949416         0.115208 -0.079085 -0.796994  \n",
       "\n",
       "[1251 rows x 9 columns]"
      ]
     },
     "execution_count": 51,
     "metadata": {},
     "output_type": "execute_result"
    }
   ],
   "source": [
    "df_numeric"
   ]
  },
  {
   "cell_type": "code",
   "execution_count": 52,
   "id": "9cfb8c28-e3fc-40b5-a818-2183cf9c8953",
   "metadata": {},
   "outputs": [
    {
     "name": "stdout",
     "output_type": "stream",
     "text": [
      "(1251, 10)\n",
      "[[ 1.          5.7271803   1.02616421 ...  0.22575562  1.19856638\n",
      "  -0.51167711]\n",
      " [ 1.         -5.98744578  1.1494017  ...  0.66147001 -1.0081526\n",
      "  -1.39751008]\n",
      " [ 1.          7.72501661  0.79224618 ...  1.32435095  1.81896781\n",
      "   0.07481882]\n",
      " ...\n",
      " [ 1.         -3.20326932 -0.95545673 ... -1.7285494  -0.94584842\n",
      "   1.79459968]\n",
      " [ 1.          3.44283088 -0.78196693 ...  1.3211861  -0.32605358\n",
      "  -1.02254566]\n",
      " [ 1.          5.42104564 -1.23370243 ...  0.11520759 -0.07908455\n",
      "  -0.79699392]]\n"
     ]
    }
   ],
   "source": [
    "ones = np.ones(X.shape[0])\n",
    "X = np.column_stack((ones,X))\n",
    "\n",
    "print(X.shape)\n",
    "print(X)"
   ]
  },
  {
   "cell_type": "markdown",
   "id": "0b9af7f8-820d-4768-aa2f-87ab0d81292f",
   "metadata": {},
   "source": [
    "### Fonction Softmax"
   ]
  },
  {
   "cell_type": "code",
   "execution_count": 53,
   "id": "5c32ea9c-91d9-4d2d-add7-e93b81bd8b55",
   "metadata": {},
   "outputs": [],
   "source": [
    "def softmax(Z):\n",
    "    Z_exp = np.exp(Z - np.max(Z, axis=1, keepdims=True))\n",
    "    return Z_exp / np.sum(Z_exp, axis=1, keepdims=True)"
   ]
  },
  {
   "cell_type": "markdown",
   "id": "3dbcac7a-0dcf-4959-ad8d-0a2bd1807196",
   "metadata": {},
   "source": [
    "On soustrait le maximum de chaque ligne de Z avant d'appliquer l'exponentielle.\n",
    "Cela aide à stabiliser les calculs numériques et à éviter les débordements.\n",
    "<b>On divise chaque élément exponentié de Z par la somme des exponentielles de sa ligne.</b> Cela transforme chaque ligne de Z en une distribution de probabilité (les éléments de chaque ligne s'additionnent à 1)."
   ]
  },
  {
   "cell_type": "markdown",
   "id": "97159325-bb24-49be-b675-7f4545ba8e71",
   "metadata": {},
   "source": [
    "### Fonction Coût : entropie croisée"
   ]
  },
  {
   "cell_type": "code",
   "execution_count": 54,
   "id": "f2015ee0-563b-4ad3-b6ad-3b928d433fd3",
   "metadata": {},
   "outputs": [],
   "source": [
    "def cross_entropy(Y, Y_hat):\n",
    "    o = -np.sum(Y * np.log(Y_hat + 1e-9), axis=1)\n",
    "    # o est un vecteur contenant toutes les sommes des probabilités d'un exemples (d'une ligne)\n",
    "    return o\n",
    "\n",
    "def cost_function(Y, Y_hat):\n",
    "    total_cost = np.sum(cross_entropy(Y, Y_hat))\n",
    "    # la somme de toutes les entropies croisées de chaque exemples\n",
    "    return total_cost / nb_exemples"
   ]
  },
  {
   "cell_type": "markdown",
   "id": "5c5d3217-647c-4d06-af29-e260588faad6",
   "metadata": {},
   "source": [
    "### Descente de gradient"
   ]
  },
  {
   "cell_type": "code",
   "execution_count": 91,
   "id": "a7fda4fc-eb95-446e-a397-c45069591fae",
   "metadata": {},
   "outputs": [],
   "source": [
    "def compute_gradients(X, Y, Y_hat):\n",
    "    dW = np.dot(X.T, (Y_hat - Y)) / nb_exemples\n",
    "    db = np.sum(Y_hat - Y, axis=0, keepdims=True) / nb_exemples\n",
    "    return dW, db"
   ]
  },
  {
   "cell_type": "code",
   "execution_count": 101,
   "id": "204d6d6d-ee5e-4d8c-9d02-106f2ed916e7",
   "metadata": {},
   "outputs": [],
   "source": [
    "def gradient_descent(X, Y, learning_rate=0.01, num_iterations=1000):\n",
    "    biais = np.zeros((1, nb_classes))\n",
    "\n",
    "    sequence = np.arange(0.1, 0.4, 0.1)\n",
    "    W = np.full((nb_features,nb_classes), sequence)\n",
    "    W = np.row_stack((biais,W))\n",
    "    \n",
    "    for i in range(num_iterations):\n",
    "        Z = np.dot(X, W) + biais # combinaison linéaire\n",
    "        Y_hat = softmax(Z)\n",
    "        \n",
    "        cost = cost_function(Y, Y_hat)\n",
    "        \n",
    "        dW, db = compute_gradients(X, Y, Y_hat)\n",
    "        \n",
    "        W -= learning_rate * dW\n",
    "        biais -= learning_rate * db\n",
    "\n",
    "        # if i % 1000 == 0:\n",
    "        #     print(f\"Iteration {i}, Cost: {cost}\")\n",
    "\n",
    "    return W, biais, Y_hat"
   ]
  },
  {
   "cell_type": "code",
   "execution_count": 102,
   "id": "33eb188f-745e-4768-af13-45d2c64feb7e",
   "metadata": {},
   "outputs": [],
   "source": [
    "W, biais, Y_hat = gradient_descent(X, Y, learning_rate=0.01, num_iterations=10000)"
   ]
  },
  {
   "cell_type": "code",
   "execution_count": 103,
   "id": "3bab5685-1c72-4eff-973a-7e71ff7f02df",
   "metadata": {},
   "outputs": [
    {
     "data": {
      "text/plain": [
       "array([[-0.00995087, -0.09950956,  0.09561384,  0.01384659],\n",
       "       [ 0.14315542,  0.02556527,  0.31809022,  0.51318908],\n",
       "       [-0.17780475,  0.85679427,  0.99846769, -0.67745721],\n",
       "       [ 0.76419351, -0.65591798,  0.20302191,  0.68870256],\n",
       "       [ 0.27302604,  0.11601094,  1.05054984, -0.43958682],\n",
       "       [ 0.73818493, -0.09992253,  0.87913564, -0.51739804],\n",
       "       [-0.33920665,  0.45161788,  0.30598265,  0.58160612],\n",
       "       [-0.37812987,  0.71501229,  0.24947101,  0.41364657],\n",
       "       [ 0.24789843,  0.27512497,  0.76241555, -0.28543895],\n",
       "       [ 0.73157974, -0.10883588,  0.20291573,  0.1743404 ]])"
      ]
     },
     "execution_count": 103,
     "metadata": {},
     "output_type": "execute_result"
    }
   ],
   "source": [
    "W"
   ]
  },
  {
   "cell_type": "code",
   "execution_count": 104,
   "id": "01674b5f-8207-41ae-be65-e37a91722111",
   "metadata": {},
   "outputs": [
    {
     "data": {
      "text/plain": [
       "array([[0., 0., 1., 0.],\n",
       "       [0., 1., 0., 0.],\n",
       "       [0., 0., 1., 0.],\n",
       "       ...,\n",
       "       [1., 0., 0., 0.],\n",
       "       [0., 0., 0., 1.],\n",
       "       [0., 0., 0., 1.]])"
      ]
     },
     "execution_count": 104,
     "metadata": {},
     "output_type": "execute_result"
    }
   ],
   "source": [
    "Y"
   ]
  },
  {
   "cell_type": "code",
   "execution_count": 105,
   "id": "0a8dd35e-3e21-472d-b2eb-ea2e4a2ac76b",
   "metadata": {},
   "outputs": [
    {
     "data": {
      "text/plain": [
       "array([[1.15067088e-02, 1.63643983e-02, 9.47459669e-01, 2.46692239e-02],\n",
       "       [3.58362838e-04, 9.95738465e-01, 2.45809181e-03, 1.44508069e-03],\n",
       "       [4.16650782e-03, 1.75377466e-03, 9.89673281e-01, 4.40643693e-03],\n",
       "       ...,\n",
       "       [9.93536345e-01, 3.95090084e-04, 3.13933405e-03, 2.92923057e-03],\n",
       "       [2.89518743e-03, 7.23233914e-03, 1.95948984e-03, 9.87912984e-01],\n",
       "       [2.67082717e-03, 1.64741138e-03, 2.91483393e-03, 9.92766928e-01]])"
      ]
     },
     "execution_count": 105,
     "metadata": {},
     "output_type": "execute_result"
    }
   ],
   "source": [
    "Y_hat"
   ]
  },
  {
   "cell_type": "code",
   "execution_count": null,
   "id": "54ebb034-85a3-470a-9719-f72266a38020",
   "metadata": {},
   "outputs": [],
   "source": []
  }
 ],
 "metadata": {
  "kernelspec": {
   "display_name": "Python 3 (ipykernel)",
   "language": "python",
   "name": "python3"
  },
  "language_info": {
   "codemirror_mode": {
    "name": "ipython",
    "version": 3
   },
   "file_extension": ".py",
   "mimetype": "text/x-python",
   "name": "python",
   "nbconvert_exporter": "python",
   "pygments_lexer": "ipython3",
   "version": "3.10.12"
  }
 },
 "nbformat": 4,
 "nbformat_minor": 5
}

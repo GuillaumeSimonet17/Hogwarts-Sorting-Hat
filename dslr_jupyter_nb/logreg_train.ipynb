{
 "cells": [
  {
   "cell_type": "code",
   "execution_count": 193,
   "id": "c766f1e3-55c5-4942-8f14-5d480d879120",
   "metadata": {},
   "outputs": [],
   "source": [
    "import sys\n",
    "import statistic_lib as st\n",
    "import numpy as np\n",
    "import pandas as pd\n",
    "import csv"
   ]
  },
  {
   "cell_type": "code",
   "execution_count": 194,
   "id": "c020844f-ca37-4a6d-a452-7ae1a44c2cb1",
   "metadata": {},
   "outputs": [],
   "source": [
    "df = pd.read_csv('../datasets/dataset_train.csv')\n",
    "\n",
    "df.dropna(inplace=True)\n",
    "\n",
    "df_numeric = df.select_dtypes(include=['number']).drop(columns=['Index', 'Care of Magical Creatures', 'Arithmancy', 'Astronomy'])"
   ]
  },
  {
   "cell_type": "code",
   "execution_count": 211,
   "id": "0f97a29a-09d8-4031-8634-2704427231e8",
   "metadata": {},
   "outputs": [
    {
     "data": {
      "text/plain": [
       "['Ravenclaw', 'Gryffindor', 'Hufflepuff', 'Slytherin']"
      ]
     },
     "execution_count": 211,
     "metadata": {},
     "output_type": "execute_result"
    }
   ],
   "source": [
    "nb_exemples = len(df_numeric)\n",
    "\n",
    "features = df_numeric.columns.tolist()\n",
    "nb_features = len(features)\n",
    "\n",
    "classes = df['Hogwarts House'].unique().tolist()\n",
    "nb_classes = len(classes)\n",
    "classes.remove('Slytherin')\n",
    "classes.append('Slytherin')\n",
    "classes"
   ]
  },
  {
   "cell_type": "code",
   "execution_count": 212,
   "id": "d07a083b-3c38-4ae3-baf2-0d1c7f192bc6",
   "metadata": {},
   "outputs": [
    {
     "data": {
      "text/plain": [
       "array([[1., 0., 0., 0.],\n",
       "       [0., 0., 0., 1.],\n",
       "       [1., 0., 0., 0.],\n",
       "       ...,\n",
       "       [0., 1., 0., 0.],\n",
       "       [0., 0., 1., 0.],\n",
       "       [0., 0., 1., 0.]])"
      ]
     },
     "execution_count": 212,
     "metadata": {},
     "output_type": "execute_result"
    }
   ],
   "source": [
    "Y = np.zeros((nb_exemples, nb_classes))\n",
    "\n",
    "classe_to_index = {classe: index for index, classe in enumerate(classes)}\n",
    "\n",
    "for i, classe in enumerate(df['Hogwarts House']):\n",
    "    Y[i, classe_to_index[classe]] = 1\n",
    "Y"
   ]
  },
  {
   "cell_type": "code",
   "execution_count": 213,
   "id": "1266ef52-ce9f-4b71-bf36-51243289f02a",
   "metadata": {},
   "outputs": [
    {
     "data": {
      "text/plain": [
       "(11, 4)"
      ]
     },
     "execution_count": 213,
     "metadata": {},
     "output_type": "execute_result"
    }
   ],
   "source": [
    "features.append(('Bias'))\n",
    "W = pd.DataFrame(columns=classes, index=features)\n",
    "W = W.infer_objects(copy=False).fillna(0)\n",
    "W.shape"
   ]
  },
  {
   "cell_type": "code",
   "execution_count": 214,
   "id": "a5a76427-f695-4970-adb0-da3e87262959",
   "metadata": {},
   "outputs": [],
   "source": [
    "X = np.array((df_numeric.apply(lambda x: (x - x.mean()) / x.std())))"
   ]
  },
  {
   "cell_type": "code",
   "execution_count": 215,
   "id": "df97d15d-b665-4b43-b85b-8990251b1aa1",
   "metadata": {},
   "outputs": [
    {
     "data": {
      "text/plain": [
       "(1251, 10)"
      ]
     },
     "execution_count": 215,
     "metadata": {},
     "output_type": "execute_result"
    }
   ],
   "source": [
    "X.shape"
   ]
  },
  {
   "cell_type": "code",
   "execution_count": 216,
   "id": "9cfb8c28-e3fc-40b5-a818-2183cf9c8953",
   "metadata": {},
   "outputs": [
    {
     "name": "stdout",
     "output_type": "stream",
     "text": [
      "(1251, 11)\n",
      "[[ 0.86877347  1.02575399  0.3668627  ...  1.19808724 -0.51147256\n",
      "   1.        ]\n",
      " [-1.37405992  1.14894221 -2.14688607 ... -1.00774958 -1.39695141\n",
      "   1.        ]\n",
      " [ 1.25127087  0.79192947  0.71179165 ...  1.81824066  0.07478891\n",
      "   1.        ]\n",
      " ...\n",
      " [-0.84101312 -0.95507478  0.69354787 ... -0.94547031  1.79388227\n",
      "   1.        ]\n",
      " [ 0.43142147 -0.78165433  0.85725534 ... -0.32592323 -1.02213689\n",
      "   1.        ]\n",
      " [ 0.81016221 -1.23320925  0.82198404 ... -0.07905294 -0.79667531\n",
      "   1.        ]]\n"
     ]
    }
   ],
   "source": [
    "ones = np.ones(X.shape[0])\n",
    "X = np.column_stack((X,ones))\n",
    "\n",
    "print(X.shape)\n",
    "print(X)"
   ]
  },
  {
   "cell_type": "markdown",
   "id": "0b9af7f8-820d-4768-aa2f-87ab0d81292f",
   "metadata": {},
   "source": [
    "### Fonction Softmax"
   ]
  },
  {
   "cell_type": "code",
   "execution_count": 217,
   "id": "5c32ea9c-91d9-4d2d-add7-e93b81bd8b55",
   "metadata": {},
   "outputs": [],
   "source": [
    "def softmax(Z):\n",
    "    exp_z = np.exp(Z - np.max(Z, axis=1, keepdims=True))\n",
    "    return exp_z / np.sum(exp_z, axis=1, keepdims=True)"
   ]
  },
  {
   "cell_type": "markdown",
   "id": "3dbcac7a-0dcf-4959-ad8d-0a2bd1807196",
   "metadata": {},
   "source": [
    "On soustrait le maximum de chaque ligne de Z avant d'appliquer l'exponentielle.\n",
    "Cela aide à stabiliser les calculs numériques et à éviter les débordements.\n",
    "<b>On divise chaque élément exponentié de Z par la somme des exponentielles de sa ligne.</b> Cela transforme chaque ligne de Z en une distribution de probabilité (les éléments de chaque ligne s'additionnent à 1)."
   ]
  },
  {
   "cell_type": "markdown",
   "id": "97159325-bb24-49be-b675-7f4545ba8e71",
   "metadata": {},
   "source": [
    "### Fonction Coût : entropie croisée"
   ]
  },
  {
   "cell_type": "code",
   "execution_count": 218,
   "id": "f2015ee0-563b-4ad3-b6ad-3b928d433fd3",
   "metadata": {},
   "outputs": [],
   "source": [
    "def cross_entropy(Y, Y_hat):\n",
    "    o = -np.sum(Y * np.log(Y_hat + 1e-9), axis=1)\n",
    "    # o est un vecteur contenant toutes les sommes des probabilités d'un exemples (d'une ligne)\n",
    "    return o\n",
    "\n",
    "def cost_function(Y, Y_hat):\n",
    "    total_cost = np.sum(cross_entropy(Y, Y_hat))\n",
    "    # la somme de toutes les entropies croisées de chaque exemples\n",
    "    return total_cost / nb_exemples"
   ]
  },
  {
   "cell_type": "markdown",
   "id": "5c5d3217-647c-4d06-af29-e260588faad6",
   "metadata": {},
   "source": [
    "### Descente de gradient"
   ]
  },
  {
   "cell_type": "code",
   "execution_count": 219,
   "id": "a7fda4fc-eb95-446e-a397-c45069591fae",
   "metadata": {},
   "outputs": [],
   "source": [
    "def compute_gradients(X, Y, Y_hat):\n",
    "    dW = np.dot(X.T, (Y_hat - Y)) / nb_exemples\n",
    "    db = np.sum(Y_hat - Y, axis=0, keepdims=True) / nb_exemples\n",
    "    return dW, db"
   ]
  },
  {
   "cell_type": "code",
   "execution_count": 225,
   "id": "204d6d6d-ee5e-4d8c-9d02-106f2ed916e7",
   "metadata": {},
   "outputs": [],
   "source": [
    "def gradient_descent(W, X, Y, learning_rate=0.01, num_iterations=50000):\n",
    "\n",
    "    for i in range(num_iterations):\n",
    "        Z = np.dot(X, W) # combinaison linéaire\n",
    "\n",
    "        Y_hat = softmax(Z)\n",
    "        \n",
    "        cost = cost_function(Y, Y_hat)\n",
    "        \n",
    "        dW, db = compute_gradients(X, Y, Y_hat)\n",
    "        \n",
    "        W -= learning_rate * dW\n",
    "    return W, Y_hat, cost"
   ]
  },
  {
   "cell_type": "code",
   "execution_count": 229,
   "id": "33eb188f-745e-4768-af13-45d2c64feb7e",
   "metadata": {},
   "outputs": [],
   "source": [
    "W, Y_hat, cost = gradient_descent(W, X, Y, learning_rate=0.01, num_iterations=1000)"
   ]
  },
  {
   "cell_type": "code",
   "execution_count": 230,
   "id": "cc881cb5-ca24-48b3-b7df-2aa630d3c803",
   "metadata": {},
   "outputs": [
    {
     "data": {
      "text/html": [
       "<div>\n",
       "<style scoped>\n",
       "    .dataframe tbody tr th:only-of-type {\n",
       "        vertical-align: middle;\n",
       "    }\n",
       "\n",
       "    .dataframe tbody tr th {\n",
       "        vertical-align: top;\n",
       "    }\n",
       "\n",
       "    .dataframe thead th {\n",
       "        text-align: right;\n",
       "    }\n",
       "</style>\n",
       "<table border=\"1\" class=\"dataframe\">\n",
       "  <thead>\n",
       "    <tr style=\"text-align: right;\">\n",
       "      <th></th>\n",
       "      <th>Ravenclaw</th>\n",
       "      <th>Gryffindor</th>\n",
       "      <th>Hufflepuff</th>\n",
       "      <th>Slytherin</th>\n",
       "    </tr>\n",
       "  </thead>\n",
       "  <tbody>\n",
       "    <tr>\n",
       "      <th>Herbology</th>\n",
       "      <td>0.246250</td>\n",
       "      <td>-0.341056</td>\n",
       "      <td>0.520088</td>\n",
       "      <td>-0.425281</td>\n",
       "    </tr>\n",
       "    <tr>\n",
       "      <th>Defense Against the Dark Arts</th>\n",
       "      <td>0.471622</td>\n",
       "      <td>-0.157734</td>\n",
       "      <td>-0.693129</td>\n",
       "      <td>0.379241</td>\n",
       "    </tr>\n",
       "    <tr>\n",
       "      <th>Divination</th>\n",
       "      <td>0.161221</td>\n",
       "      <td>0.125863</td>\n",
       "      <td>0.351832</td>\n",
       "      <td>-0.638915</td>\n",
       "    </tr>\n",
       "    <tr>\n",
       "      <th>Muggle Studies</th>\n",
       "      <td>0.640323</td>\n",
       "      <td>-0.079428</td>\n",
       "      <td>-0.416166</td>\n",
       "      <td>-0.144729</td>\n",
       "    </tr>\n",
       "    <tr>\n",
       "      <th>Ancient Runes</th>\n",
       "      <td>0.476189</td>\n",
       "      <td>0.327511</td>\n",
       "      <td>-0.610816</td>\n",
       "      <td>-0.192884</td>\n",
       "    </tr>\n",
       "    <tr>\n",
       "      <th>History of Magic</th>\n",
       "      <td>0.103300</td>\n",
       "      <td>-0.454357</td>\n",
       "      <td>0.308344</td>\n",
       "      <td>0.042713</td>\n",
       "    </tr>\n",
       "    <tr>\n",
       "      <th>Transfiguration</th>\n",
       "      <td>0.111047</td>\n",
       "      <td>-0.465991</td>\n",
       "      <td>0.272237</td>\n",
       "      <td>0.082707</td>\n",
       "    </tr>\n",
       "    <tr>\n",
       "      <th>Potions</th>\n",
       "      <td>0.089222</td>\n",
       "      <td>-0.189253</td>\n",
       "      <td>-0.230198</td>\n",
       "      <td>0.330229</td>\n",
       "    </tr>\n",
       "    <tr>\n",
       "      <th>Charms</th>\n",
       "      <td>0.571213</td>\n",
       "      <td>-0.228979</td>\n",
       "      <td>-0.105708</td>\n",
       "      <td>-0.236525</td>\n",
       "    </tr>\n",
       "    <tr>\n",
       "      <th>Flying</th>\n",
       "      <td>-0.053669</td>\n",
       "      <td>0.436766</td>\n",
       "      <td>-0.163297</td>\n",
       "      <td>-0.219800</td>\n",
       "    </tr>\n",
       "    <tr>\n",
       "      <th>Bias</th>\n",
       "      <td>0.014468</td>\n",
       "      <td>-0.156358</td>\n",
       "      <td>0.304939</td>\n",
       "      <td>-0.163049</td>\n",
       "    </tr>\n",
       "  </tbody>\n",
       "</table>\n",
       "</div>"
      ],
      "text/plain": [
       "                               Ravenclaw  Gryffindor  Hufflepuff  Slytherin\n",
       "Herbology                       0.246250   -0.341056    0.520088  -0.425281\n",
       "Defense Against the Dark Arts   0.471622   -0.157734   -0.693129   0.379241\n",
       "Divination                      0.161221    0.125863    0.351832  -0.638915\n",
       "Muggle Studies                  0.640323   -0.079428   -0.416166  -0.144729\n",
       "Ancient Runes                   0.476189    0.327511   -0.610816  -0.192884\n",
       "History of Magic                0.103300   -0.454357    0.308344   0.042713\n",
       "Transfiguration                 0.111047   -0.465991    0.272237   0.082707\n",
       "Potions                         0.089222   -0.189253   -0.230198   0.330229\n",
       "Charms                          0.571213   -0.228979   -0.105708  -0.236525\n",
       "Flying                         -0.053669    0.436766   -0.163297  -0.219800\n",
       "Bias                            0.014468   -0.156358    0.304939  -0.163049"
      ]
     },
     "execution_count": 230,
     "metadata": {},
     "output_type": "execute_result"
    }
   ],
   "source": [
    "Y_hat\n",
    "# W = 1 - W\n",
    "W"
   ]
  },
  {
   "cell_type": "code",
   "execution_count": 231,
   "id": "39aa0aa9-6c56-422d-b2cd-a5a10096ad9f",
   "metadata": {},
   "outputs": [],
   "source": [
    "with open('result_train_weights.csv', 'w', newline='') as file:\n",
    "    W.to_csv(file)"
   ]
  },
  {
   "cell_type": "code",
   "execution_count": null,
   "id": "0dbc64a0-0344-42dc-b0e1-1f395353f489",
   "metadata": {},
   "outputs": [],
   "source": []
  }
 ],
 "metadata": {
  "kernelspec": {
   "display_name": "Python 3 (ipykernel)",
   "language": "python",
   "name": "python3"
  },
  "language_info": {
   "codemirror_mode": {
    "name": "ipython",
    "version": 3
   },
   "file_extension": ".py",
   "mimetype": "text/x-python",
   "name": "python",
   "nbconvert_exporter": "python",
   "pygments_lexer": "ipython3",
   "version": "3.10.12"
  }
 },
 "nbformat": 4,
 "nbformat_minor": 5
}
